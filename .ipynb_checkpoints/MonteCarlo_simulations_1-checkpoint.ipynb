{
 "cells": [
  {
   "cell_type": "markdown",
   "metadata": {},
   "source": [
    "# Summary\n",
    "\n",
    "<p>\n",
    "A <b>simulation</b> as it is understood here is an approximate imitation of a process or system\n",
    "over a sequence. The sequence can be time but also any other type.\n",
    "</p> \n",
    "\n",
    "<p>\n",
    "This project tries to develop solutions for certain business problems with simulations of\n",
    "<b>probability distributions</b>.\n",
    "In this context, it helps bring into mind that simulations\n",
    "are nothing more than a tool under uncertainty. A simulation gives a range \n",
    "of possible outcomes depending on input probabilities. \n",
    "Are these outcomes acceptable or not? Simulations are techniques for estimating the risk\n",
    "someone is willing to carry. Testing out different probability levels with charts and histograms are a search to find the desired level of risk and outcome. \n",
    "</p> \n",
    "<p>    \n",
    "A <b>Monte Carlo simulation</b> is not a stringent mathematical solution. It cannot be as it applies the concept of randomness. A MC is also not a model but a techniqe for enriching the data, when empirical data is sparse and collecting more data would be too\n",
    "costly. The art of simulation is understanding the problem, fitting the adequate\n",
    "probability distribution, calculate the moments, and run experiments. \n",
    "</p> \n",
    "\n",
    "<p>\n",
    "This project approaches the topic of simulations from the Bernoulli distribution,\n",
    "then goes to the binomial distribution, and then applies MC to a geometric probability\n",
    "distribution problem.\n",
    "</p> "
   ]
  },
  {
   "cell_type": "markdown",
   "metadata": {},
   "source": [
    "## Import packages"
   ]
  },
  {
   "cell_type": "code",
   "execution_count": 1,
   "metadata": {},
   "outputs": [],
   "source": [
    "import numpy as np\n",
    "import matplotlib.pyplot as plt\n",
    "import seaborn as sns\n",
    "from numpy.random import seed, randint\n",
    "import pandas as pd\n",
    "import collections\n",
    "import statistics\n",
    "\n",
    "# from scipy.stats import bernoulli\n",
    "import scipy.stats as stats\n",
    "from scipy.stats import bernoulli\n",
    "\n",
    "# checks\n",
    "# print(sns.__file__)"
   ]
  },
  {
   "cell_type": "markdown",
   "metadata": {},
   "source": [
    "## Bernoulli trials - the coin toss experiments\n",
    "<ul>\n",
    "<li>Toss the coin many times.</li>\n",
    "<li>Count the outcomes of head or tail.</li>\n",
    "<li>Divide the count of outcomes by the number of tosses.</li>\n",
    "</ul>\n",
    "\n",
    "<p>\n",
    "This give the empirical or experimental probability, which are relative frequencies.<br>\n",
    "In contrast theoretical probability is given by an assumed standardized distribution.<br>\n",
    "A distribution with two possible results is called a Bernoulli.<br> \n",
    "It is a special case of a binonmial distribution.\n",
    "</p>"
   ]
  },
  {
   "cell_type": "code",
   "execution_count": 2,
   "metadata": {},
   "outputs": [
    {
     "name": "stdout",
     "output_type": "stream",
     "text": [
      "0.485\n",
      "0.515\n",
      "0.33\n",
      "0.51\n"
     ]
    }
   ],
   "source": [
    "# number of mint tosses: 200 \n",
    "\n",
    "# experiment 1\n",
    "p_head = 97 / 200\n",
    "# experiment 1\n",
    "p_tail = (200-97) / 200\n",
    "\n",
    "#  number of times throwing the dice\n",
    "\n",
    "# experiment 3 - count 6\n",
    "p_six = 66 / 200\n",
    "# experiment 4\n",
    "p_odd = 102 / 200\n",
    "\n",
    "print(p_head)\n",
    "print(p_tail)\n",
    "print(p_six)\n",
    "print(p_odd)"
   ]
  },
  {
   "cell_type": "markdown",
   "metadata": {},
   "source": [
    "Convert proportions to percentages"
   ]
  },
  {
   "cell_type": "code",
   "execution_count": 3,
   "metadata": {},
   "outputs": [
    {
     "name": "stdout",
     "output_type": "stream",
     "text": [
      "48.5 51.5 33.0 51.0\n"
     ]
    }
   ],
   "source": [
    "p_head_percentage = p_head * 100\n",
    "p_tail_percentage = p_tail* 100\n",
    "p_six_percentage = p_six * 100\n",
    "p_odd_percentage = p_odd * 100\n",
    "\n",
    "print(p_head_percentage, p_tail_percentage, p_six_percentage, p_odd_percentage)"
   ]
  },
  {
   "cell_type": "code",
   "execution_count": 4,
   "metadata": {},
   "outputs": [
    {
     "name": "stdout",
     "output_type": "stream",
     "text": [
      "0.66 65.8\n",
      "0.46 45.62\n"
     ]
    }
   ],
   "source": [
    "proportion_heads_A = (500-171)/500\n",
    "percentage_A = proportion_heads_A * 100\n",
    "proportion_heads_B = (8000 -  4350) / 8000 \n",
    "percentage_B = proportion_heads_B * 100\n",
    "print(np.round(proportion_heads_A, 2), percentage_A)\n",
    "print(np.round(proportion_heads_B, 2), np.round(percentage_B, 2))"
   ]
  },
  {
   "cell_type": "markdown",
   "metadata": {},
   "source": [
    "#### Expected value in Bernoulli experiments\n",
    "\n",
    "The expected value of head, when tossing a coin 10.000 times, is 50 percent.\n",
    "According to the [law of large numbers](https://en.wikipedia.org/wiki/Law_of_large_numbers):<br>\n",
    "'According to the law, the average of the results obtained from a large number of trials  should be close to the expected value, <br>and will tend to become closer as more trials are performed.'\n",
    "<p>\n",
    "This now proven with a randomized experiment of coin tosses.\n",
    "</p>\n"
   ]
  },
  {
   "cell_type": "code",
   "execution_count": 5,
   "metadata": {},
   "outputs": [
    {
     "name": "stdout",
     "output_type": "stream",
     "text": [
      "10000\n"
     ]
    }
   ],
   "source": [
    "def tossing_the_mint():\n",
    "    # The randint() method returns an integer number selected element from the specified range.\n",
    "    if randint(0,2) == 1:\n",
    "        return 'HEAD'\n",
    "    else:\n",
    "        return 'TAIL'\n",
    "seed(1)\n",
    "\n",
    "probabilities_head = []\n",
    "head = 0\n",
    "\n",
    "for i in range(1, 10001):\n",
    "    result = tossing_the_mint()\n",
    "    if result == 'HEAD':\n",
    "        head += 1\n",
    "    probability_present = round(head / i , 4)\n",
    "    probabilities_head.append(probability_present)\n",
    "   \n",
    "print(len(probabilities_head))"
   ]
  },
  {
   "cell_type": "markdown",
   "metadata": {},
   "source": [
    "The first 25 probabilities are fluctuating."
   ]
  },
  {
   "cell_type": "code",
   "execution_count": 6,
   "metadata": {},
   "outputs": [
    {
     "name": "stdout",
     "output_type": "stream",
     "text": [
      "[1.0, 1.0, 0.6667, 0.5, 0.6, 0.6667, 0.7143, 0.75, 0.7778, 0.7, 0.6364, 0.6667, 0.6154, 0.6429, 0.6667, 0.625, 0.5882, 0.6111, 0.5789, 0.55, 0.5238, 0.5455, 0.5217, 0.5, 0.52]\n"
     ]
    }
   ],
   "source": [
    "print(probabilities_head[0:25])\n"
   ]
  },
  {
   "cell_type": "code",
   "execution_count": 7,
   "metadata": {},
   "outputs": [
    {
     "name": "stdout",
     "output_type": "stream",
     "text": [
      "[0.4947, 0.4946, 0.4945, 0.4946, 0.4945]\n"
     ]
    }
   ],
   "source": [
    "print(probabilities_head[5000:5005])"
   ]
  },
  {
   "cell_type": "code",
   "execution_count": 8,
   "metadata": {},
   "outputs": [
    {
     "name": "stdout",
     "output_type": "stream",
     "text": [
      "[0.4993, 0.4994, 0.4993, 0.4994, 0.4993, 0.4993, 0.4993, 0.4994, 0.4993, 0.4994]\n"
     ]
    }
   ],
   "source": [
    "print(probabilities_head[-10:])"
   ]
  },
  {
   "cell_type": "markdown",
   "metadata": {},
   "source": [
    "The more often the mint is tossed the more the probability approaches the expected value or true value of  0.5."
   ]
  },
  {
   "cell_type": "code",
   "execution_count": 9,
   "metadata": {},
   "outputs": [
    {
     "data": {
      "image/png": "[encoded data removed]",
      "text/plain": [
       "<Figure size 432x288 with 1 Axes>"
      ]
     },
     "metadata": {
      "needs_background": "light"
     },
     "output_type": "display_data"
    }
   ],
   "source": [
    "plt.plot(probabilities_head, color=\"green\", linewidth=2)\n",
    "plt.title(\"Probabilities of tossing a coin 10.000 times\")\n",
    "plt.xlabel(\"Trials\")\n",
    "plt.ylabel(\"Probabilities\")\n",
    "plt.vlines(x=2000, ymin=0.2, ymax=1, color=\"red\", linestyle = \"dashed\",\n",
    "           linewidth=3)\n",
    "plt.annotate('point of levelling off to 0.5',xy=(2300, 0.55))\n",
    "plt.show()"
   ]
  },
  {
   "cell_type": "markdown",
   "metadata": {},
   "source": [
    "Latest at 2000 trials the probabilities are levelling off to 0.5."
   ]
  },
  {
   "cell_type": "markdown",
   "metadata": {},
   "source": [
    "#### Scipy stats \n",
    "\n",
    "offers a range of Bernoulli functions.\n",
    "\n",
    "<a href=\"https://docs.scipy.org/doc/scipy/reference/generated/scipy.stats.bernoulli.html\" \n",
    " target=\"_blank\">scipy.stats.bernoulli</a> "
   ]
  },
  {
   "cell_type": "code",
   "execution_count": 10,
   "metadata": {},
   "outputs": [
    {
     "name": "stdout",
     "output_type": "stream",
     "text": [
      "0.5 0.25 0.0 -2.0\n"
     ]
    }
   ],
   "source": [
    "# this calculates the statistics of a bernoulli distribution\n",
    "# given a probability of success p\n",
    "\n",
    "p = 0.5\n",
    "mean_1, var_1, skew_1, kurt_1 = bernoulli.stats(p, moments='mvsk')\n",
    "\n",
    "print(mean_1, var_1, skew_1, kurt_1)"
   ]
  },
  {
   "cell_type": "markdown",
   "metadata": {},
   "source": [
    "Calculating discret random results of 10.000 binonmial trials (size) or coin tosses."
   ]
  },
  {
   "cell_type": "code",
   "execution_count": 11,
   "metadata": {},
   "outputs": [
    {
     "name": "stdout",
     "output_type": "stream",
     "text": [
      "[1 1 0 ... 1 0 1]\n",
      "5040\n",
      "4960\n"
     ]
    }
   ],
   "source": [
    "ber_rvs = bernoulli.rvs(p=0.5, size=10000)\n",
    "print(ber_rvs)\n",
    "\n",
    "ber_rvs_1 = sum(ber_rvs == 1)\n",
    "print(ber_rvs_1 )\n",
    "ber_rvs_0 = 10000 - ber_rvs_1\n",
    "print(ber_rvs_0)"
   ]
  },
  {
   "cell_type": "markdown",
   "metadata": {},
   "source": [
    "Proportions"
   ]
  },
  {
   "cell_type": "code",
   "execution_count": 12,
   "metadata": {},
   "outputs": [
    {
     "name": "stdout",
     "output_type": "stream",
     "text": [
      "0.494\n",
      "0.506\n"
     ]
    }
   ],
   "source": [
    "print(4940/10000) # 1\n",
    "print(5060/10000) # 0"
   ]
  },
  {
   "cell_type": "code",
   "execution_count": 13,
   "metadata": {},
   "outputs": [
    {
     "data": {
      "image/png": "[encoded data removed]",
      "text/plain": [
       "<Figure size 432x288 with 1 Axes>"
      ]
     },
     "metadata": {
      "needs_background": "light"
     },
     "output_type": "display_data"
    }
   ],
   "source": [
    "plt.figure(figsize=(6,4))\n",
    "plt.bar([1,0], [ber_rvs_0, ber_rvs_1], align='center',\n",
    "        edgecolor=\"black\", linewidth=5, color=['r', 'yellow'],\n",
    "        tick_label=[1,0])\n",
    "plt.title(\"Random discrete outcomes with 10000 coin tosses\")\n",
    "plt.annotate(\"5060\", xy=(-0.1,3000), fontsize=17)\n",
    "plt.annotate(\"4940\", xy=(0.9,3000), fontsize=17)\n",
    "plt.show()"
   ]
  },
  {
   "cell_type": "markdown",
   "metadata": {},
   "source": [
    "Probability mass function gives the probability that the discrete random variable is \n",
    "equal to a value.<br>\n",
    "In case of the Bernoulli function the probabilities of 1 and 0 are equal to 0.5, if the coin is fair.<br>\n",
    "The probability of 34534534 on the other is hand 0."
   ]
  },
  {
   "cell_type": "code",
   "execution_count": 14,
   "metadata": {},
   "outputs": [
    {
     "name": "stdout",
     "output_type": "stream",
     "text": [
      "Counter({1: 25019, 0: 24981})\n",
      "24981\n",
      "25019\n"
     ]
    }
   ],
   "source": [
    "ber_rvs_2 = bernoulli.rvs(p=0.5, size=50000)\n",
    "\n",
    "# import collections\n",
    "print(collections.Counter(ber_rvs_2))\n",
    "\n",
    "# absolute numbers\n",
    "print(collections.Counter(ber_rvs_2)[0])\n",
    "print(collections.Counter(ber_rvs_2)[1])"
   ]
  },
  {
   "cell_type": "code",
   "execution_count": 15,
   "metadata": {},
   "outputs": [
    {
     "name": "stdout",
     "output_type": "stream",
     "text": [
      "0.49962\n",
      "0.50038\n"
     ]
    }
   ],
   "source": [
    "# proportions\n",
    "ber_rvs_20 = collections.Counter(ber_rvs_2)[0]/50000\n",
    "print(collections.Counter(ber_rvs_2)[0]/50000)\n",
    "\n",
    "ber_rvs_21 = collections.Counter(ber_rvs_2)[1]/50000\n",
    "print(collections.Counter(ber_rvs_2)[1]/50000)"
   ]
  },
  {
   "cell_type": "code",
   "execution_count": 16,
   "metadata": {},
   "outputs": [
    {
     "data": {
      "image/png": "[encoded data removed]",
      "text/plain": [
       "<Figure size 432x288 with 1 Axes>"
      ]
     },
     "metadata": {
      "needs_background": "light"
     },
     "output_type": "display_data"
    }
   ],
   "source": [
    "plt.figure(figsize=(6,4))\n",
    "plt.bar([1,0], [ber_rvs_20, ber_rvs_21], align='center',\n",
    "        edgecolor=\"black\", linewidth=5, color=['r', 'yellow'],\n",
    "        tick_label=[1,0])\n",
    "plt.title(\"Random discrete outcomes with 50000 coin tosses\")\n",
    "plt.annotate(\"0.49654\", xy=(-0.2,0.3), fontsize=17)\n",
    "plt.annotate(\"0.50346\", xy=(0.8,0.3), fontsize=17)\n",
    "plt.show()"
   ]
  },
  {
   "cell_type": "code",
   "execution_count": 17,
   "metadata": {},
   "outputs": [
    {
     "name": "stdout",
     "output_type": "stream",
     "text": [
      "0.5\n",
      "0.5\n",
      "0.0\n"
     ]
    }
   ],
   "source": [
    "print(bernoulli.pmf(1, p, loc=0))\n",
    "print(bernoulli.pmf(0, p, loc=0))\n",
    "\n",
    "print(bernoulli.pmf(0, p, loc=34534534))"
   ]
  },
  {
   "cell_type": "code",
   "execution_count": 18,
   "metadata": {},
   "outputs": [
    {
     "name": "stdout",
     "output_type": "stream",
     "text": [
      "0.5\n",
      "1.0\n"
     ]
    }
   ],
   "source": [
    "print(bernoulli.cdf(0, p, loc=0))\n",
    "print(bernoulli.cdf(1, p, loc=0))"
   ]
  },
  {
   "cell_type": "markdown",
   "metadata": {},
   "source": [
    "## Binomial distribution\n",
    "\n",
    "<p>\n",
    "results from an independent and evenly distributed sequence of Bernoulli trials.\n",
    "A Bernoulli trial is a random experiment with only two different outcomes.\n",
    "The binomial coefficient is calculated with this formula applying \"factorials\".\n",
    "Factorials are read \"n choose k\" or there are n-ways to choose k-elements from a given set of numbers (n).\n",
    "</p> \n",
    "\n",
    "<p>\n",
    "<a href=\"https://en.wikipedia.org/wiki/Binomial_coefficient\">\n",
    "<img src=\"binomialCoefficient.svg\" alt=\"Smiley face\" height=\"200\" width=\"200\"> \n",
    "</a>\n",
    "</p> \n",
    "\n",
    "<p>\n",
    "These are examples for calculating Binomial Coefficients:\n",
    "</p> \n",
    "\n",
    "<p>\n",
    "<a href=\"http://image3.slideserve.com/6615361/8-4-evaluating-binomial-coefficients-n.jpg\">\n",
    "<img src=\"BinomialCoefEx.jpg\" alt=\"Smiley face\" height=\"300\" width=\"250\"> \n",
    "</a>\n",
    "</p\n",
    "\n",
    "<p>\n",
    "Bernoulli and Binomial experiments are easily mixed up, if you think to much about it.\n",
    "A further explanation is given here:\n",
    "<a href=\"https://www.differencebetween.com/difference-between-bernoulli-and-vs-binomial/\">\n",
    "Difference Between Bernoulli and Binomial\n",
    "</a>\n",
    "</p> \n",
    "\n",
    "<p>\n",
    "The function scipy.stats.binom offers three main arguments, where n is the set of numbers choosing from,\n",
    "p is the probability of success (head), and size is the number of trials (or coin tosses) conducted.<br>\n",
    "<a href=\"https://docs.scipy.org/doc/scipy-0.14.0/reference/generated/scipy.stats.binom.html\">\n",
    "scipy.stats.binom\n",
    "</a>\n",
    "</p> "
   ]
  },
  {
   "cell_type": "markdown",
   "metadata": {},
   "source": [
    "### Playing around with the main arguments\n",
    "\n",
    "Changing the set of numbers (n) to choose from, while holding all other arguments constant. "
   ]
  },
  {
   "cell_type": "code",
   "execution_count": 19,
   "metadata": {},
   "outputs": [
    {
     "name": "stdout",
     "output_type": "stream",
     "text": [
      "[2 0 2 2 0 2 0 1 2 2]\n",
      "10\n",
      "[27 27 21 23 26 30 27 21 27 25]\n",
      "10\n",
      "[195 202 202 199 202 201 188 198 203 189]\n",
      "10\n",
      "[4997991 4999679 5001592 5001288 4997307 4999454 4999004 4997898 4999430\n",
      " 5000426]\n",
      "10\n"
     ]
    }
   ],
   "source": [
    "np.random.seed(5464)\n",
    "\n",
    "# This is a bernoulli trial\n",
    "draws_0250 = stats.binom.rvs(n=2, p=0.5, size=10)\n",
    "print(draws_0250)\n",
    "print(len(draws_0250))\n",
    "\n",
    "draws_5050 = stats.binom.rvs(n=50, p=0.5, size=10)\n",
    "print(draws_5050)\n",
    "print(len(draws_5050))\n",
    "\n",
    "draws_40050 = stats.binom.rvs(n=400, p=0.5, size=10)\n",
    "print(draws_40050)\n",
    "print(len(draws_40050))\n",
    "\n",
    "draws_10000000 = stats.binom.rvs(n=10000000, p=0.5, size=10)\n",
    "print(draws_10000000)\n",
    "print(len(draws_10000000))"
   ]
  },
  {
   "cell_type": "code",
   "execution_count": 20,
   "metadata": {},
   "outputs": [
    {
     "data": {
      "image/png": "[encoded data removed]",
      "text/plain": [
       "<Figure size 576x576 with 4 Axes>"
      ]
     },
     "metadata": {
      "needs_background": "light"
     },
     "output_type": "display_data"
    }
   ],
   "source": [
    "fig, axes =  plt.subplots(nrows=2, ncols=2, sharey=True, sharex=False, figsize=[8,8])\n",
    "fig.suptitle('Draws with different sets to choose from', fontsize=12)\n",
    "\n",
    "axes[0,0].hist(draws_0250, color=\"r\", edgecolor=\"black\", linewidth=\"5\")\n",
    "axes[0,0].grid(True)\n",
    "axes[0,0].set_title(\"Set: 2\")\n",
    "axes[0,1].hist(draws_5050, color=\"y\", edgecolor=\"black\", linewidth=\"5\")\n",
    "axes[0,1].grid(True)\n",
    "axes[0,1].set_title(\"Set: 50\")\n",
    "axes[1,0].hist(draws_40050, color=\"g\", edgecolor=\"black\", linewidth=\"5\")\n",
    "axes[1,0].grid(True)\n",
    "axes[1,0].set_title(\"Set: 400\")\n",
    "axes[1,1].hist(draws_10000000, color=\"b\", edgecolor=\"black\", linewidth=\"5\")\n",
    "axes[1,1].grid(True)\n",
    "axes[1,1].set_title(\"Set: 10.000.000\")\n",
    "plt.xticks(rotation=90)\n",
    "\n",
    "plt.show()"
   ]
  },
  {
   "cell_type": "markdown",
   "metadata": {},
   "source": [
    "Changing the numbers of trials (size) while holding all other arguments constant."
   ]
  },
  {
   "cell_type": "code",
   "execution_count": 21,
   "metadata": {},
   "outputs": [
    {
     "name": "stdout",
     "output_type": "stream",
     "text": [
      "100\n",
      "2000\n",
      "1000000\n",
      "20000000\n"
     ]
    }
   ],
   "source": [
    "draws_40501000 = stats.binom.rvs(n=40, p=0.5, size=100)\n",
    "print(len(draws_40501000))\n",
    "\n",
    "draws_40502000 = stats.binom.rvs(n=40, p=0.5, size=2000)\n",
    "print(len(draws_40502000))\n",
    "\n",
    "draws_40501000000 = stats.binom.rvs(n=40, p=0.5, size=1000000)\n",
    "print(len(draws_40501000000))\n",
    "\n",
    "draws_405020000000 = stats.binom.rvs(n=40, p=0.5, size=20000000)\n",
    "print(len(draws_405020000000))"
   ]
  },
  {
   "cell_type": "code",
   "execution_count": 22,
   "metadata": {},
   "outputs": [
    {
     "data": {
      "image/png": "[encoded data removed]",
      "text/plain": [
       "<Figure size 576x576 with 4 Axes>"
      ]
     },
     "metadata": {
      "needs_background": "light"
     },
     "output_type": "display_data"
    }
   ],
   "source": [
    "fig, axes =  plt.subplots(nrows=2, ncols=2, sharey=False, sharex=True, figsize=[8,8])\n",
    "fig.suptitle('Draws with changing number of trials', fontsize=12)\n",
    "\n",
    "axes[0,0].hist(draws_40501000, color=\"r\", edgecolor=\"black\", linewidth=\"5\")\n",
    "axes[0,0].grid(True)\n",
    "axes[0,0].set_title(\"Trials: 1000\")\n",
    "axes[0,1].hist(draws_40502000, color=\"y\", edgecolor=\"black\", linewidth=\"5\")\n",
    "axes[0,1].grid(True)\n",
    "axes[0,1].set_title(\"Trials: 2000\")\n",
    "axes[1,0].hist(draws_40501000000, color=\"g\", edgecolor=\"black\", linewidth=\"5\")\n",
    "axes[1,0].grid(True)\n",
    "axes[1,0].set_title(\"Trials: 1.000.000\")\n",
    "axes[1,1].hist(draws_405020000000, color=\"b\", edgecolor=\"black\", linewidth=\"5\")\n",
    "axes[1,1].grid(True)\n",
    "axes[1,1].set_title(\"Trials: 20.000.000\")\n",
    "\n",
    "plt.show()"
   ]
  },
  {
   "cell_type": "markdown",
   "metadata": {},
   "source": [
    "Last but not least changing the probabilities, while holding all other arguments constant."
   ]
  },
  {
   "cell_type": "code",
   "execution_count": 23,
   "metadata": {},
   "outputs": [
    {
     "name": "stdout",
     "output_type": "stream",
     "text": [
      "[0 0 0 ... 0 0 0]\n",
      "10000\n",
      "[2 3 3 ... 2 1 1]\n",
      "10000\n",
      "[3 5 5 ... 3 7 5]\n",
      "10000\n",
      "[6 8 8 ... 8 9 9]\n",
      "10000\n",
      "[10 10 10 ... 10 10 10]\n",
      "10000\n"
     ]
    }
   ],
   "source": [
    "np.random.seed(123)\n",
    "\n",
    "draws_0 = stats.binom.rvs(n=10, p=0, size=10000)\n",
    "print(draws_0)\n",
    "print(len(draws_0))\n",
    "\n",
    "draws_2 = stats.binom.rvs(n=10, p=0.2, size=10000)\n",
    "print(draws_2)\n",
    "print(len(draws_2))\n",
    "\n",
    "draws_5 = stats.binom.rvs(n=10, p=0.5, size=10000)\n",
    "print(draws_5)\n",
    "print(len(draws_5))\n",
    "\n",
    "draws_8 = stats.binom.rvs(n=10, p=0.8, size=10000)\n",
    "print(draws_8)\n",
    "print(len(draws_8))\n",
    "\n",
    "draws_1 = stats.binom.rvs(n=10, p=1, size=10000)\n",
    "print(draws_1)\n",
    "print(len(draws_1))"
   ]
  },
  {
   "cell_type": "code",
   "execution_count": 24,
   "metadata": {},
   "outputs": [
    {
     "data": {
      "image/png": "[encoded data removed]",
      "text/plain": [
       "<Figure size 576x576 with 4 Axes>"
      ]
     },
     "metadata": {
      "needs_background": "light"
     },
     "output_type": "display_data"
    }
   ],
   "source": [
    "fig, axes =  plt.subplots(nrows=2, ncols=2, sharey=False, sharex=True, figsize=[8,8])\n",
    "fig.suptitle('Draws with changing probabilities', fontsize=12)\n",
    "\n",
    "axes[0,0].hist(draws_2, color=\"r\", edgecolor=\"black\", linewidth=\"5\")\n",
    "axes[0,0].grid(True)\n",
    "axes[0,0].set_title(\"probability: 0.2\")\n",
    "axes[0,1].hist(draws_5, color=\"y\", edgecolor=\"black\", linewidth=\"5\")\n",
    "axes[0,1].grid(True)\n",
    "axes[0,1].set_title(\"probability: 0.5\")\n",
    "axes[1,0].hist(draws_8, color=\"g\", edgecolor=\"black\", linewidth=\"5\")\n",
    "axes[1,0].grid(True)\n",
    "axes[1,0].set_title(\"probability: 0.8\")\n",
    "axes[1,1].hist(draws_1, color=\"b\", edgecolor=\"black\", linewidth=\"5\")\n",
    "axes[1,1].grid(True)\n",
    "axes[1,1].set_title(\"probability: 1\")\n",
    "\n",
    "plt.show()"
   ]
  },
  {
   "cell_type": "markdown",
   "metadata": {},
   "source": [
    "### Expected values (means) and variances in binomial experiments\n",
    "\n",
    "<p>\n",
    "The expected values (E) or means of probability distributions of which the \n",
    "binomial distribution is one case, is a weighted average of the random\n",
    "variables (X) times the probabilities: E = sum(n*p). \n",
    "The expected value is the most likely value of all outcomes. \n",
    "It works as a simple prediction.\n",
    "Deviations from the mean are understood in terms of the variance.\n",
    "The variance (V) is the degree of dispersion around the \n",
    "expected value: V = E * (1-p). \n",
    "</p> \n",
    "\n",
    "<p>\n",
    "For example in finance the variance or standard deviations is important as it\n",
    "indicates the uncertainty or risk of getting a special (desirable) outcome.\n",
    "</p> \n",
    "\n",
    "<p>\n",
    "Python an scipy.stats offer different options for calculating E and V.\n",
    "The central function is \"stats.binom.stats(n, p, moments='mvsk')\".\n",
    "It calculates the statistical moments of a theoretical binomial distribution\n",
    "from n and p.\n",
    "</p> \n",
    "\n"
   ]
  },
  {
   "cell_type": "code",
   "execution_count": 25,
   "metadata": {},
   "outputs": [
    {
     "name": "stdout",
     "output_type": "stream",
     "text": [
      "2.5 1.875 0.3651483716701107 -0.06666666666666667\n"
     ]
    }
   ],
   "source": [
    "n, p = 10, 0.25\n",
    "\n",
    "mean_11, var_11, skew_11, kurt_11 = stats.binom.stats(n, p, moments='mvsk')\n",
    "print(mean_11, var_11, skew_11, kurt_11)\n"
   ]
  },
  {
   "cell_type": "markdown",
   "metadata": {},
   "source": [
    "The scipy.stats.describe function calculation moments for \n",
    "a given number of values."
   ]
  },
  {
   "cell_type": "code",
   "execution_count": 26,
   "metadata": {},
   "outputs": [
    {
     "data": {
      "text/plain": [
       "DescribeResult(nobs=100, minmax=(0, 1), mean=0.44, variance=0.24888888888888894, skewness=0.24174688920761425, kurtosis=-1.9415584415584415)"
      ]
     },
     "execution_count": 26,
     "metadata": {},
     "output_type": "execute_result"
    }
   ],
   "source": [
    "# bernoulli experiment n=1 generates the given number of values randomly.\n",
    "coinflip_111 = stats.binom.rvs(n=1, p=0.5, size=100)\n",
    "\n",
    "stats.describe(coinflip_111)"
   ]
  },
  {
   "cell_type": "code",
   "execution_count": 27,
   "metadata": {},
   "outputs": [
    {
     "name": "stdout",
     "output_type": "stream",
     "text": [
      "0.44\n",
      "0.24888888888888894\n"
     ]
    }
   ],
   "source": [
    "E111 = stats.describe(coinflip_111).mean\n",
    "print(E111)\n",
    "\n",
    "V111 = stats.describe(coinflip_111).variance\n",
    "print(V111)"
   ]
  },
  {
   "cell_type": "markdown",
   "metadata": {},
   "source": [
    "#### Difference between a theoretical distribution and a simulation\n",
    "\n",
    "<p>\n",
    "At first a binomial experiment with n = 100 possible outcomes is conducted.\n",
    "</p> \n"
   ]
  },
  {
   "cell_type": "code",
   "execution_count": 28,
   "metadata": {},
   "outputs": [
    {
     "name": "stdout",
     "output_type": "stream",
     "text": [
      "n_222: 40\n",
      "p_222: 0.45\n"
     ]
    }
   ],
   "source": [
    "# n is the number of possible outcomes\n",
    "n_222, p_222 = 40, 0.45\n",
    "print(\"n_222:\", n_222)\n",
    "print(\"p_222:\", p_222)\n"
   ]
  },
  {
   "cell_type": "code",
   "execution_count": 29,
   "metadata": {},
   "outputs": [
    {
     "name": "stdout",
     "output_type": "stream",
     "text": [
      "[12 20 14 19 11 23 17 16 15 17 11 19 22 19 21 21 16 21 16 15 20 18 18 17\n",
      " 23 14 22 15 18 15 15 18 22 23 21 18 21 23 21 18 17 14 25 15 16 20 19 16\n",
      " 21 18 14 12 19 15 16 12 19 21 15 21 14 19 21 16 18 15 23 13 21 21 24 14\n",
      " 24 14 13 20 21 23 19 17 18 21 23 15 19 12 14 21 24 22 19 16 18 24 15 20\n",
      " 19 19 18 16]\n",
      "[11 12 13 14 15 16 17 18 19 20 21 22 23 24 25]\n",
      "100\n",
      "11\n",
      "25\n"
     ]
    }
   ],
   "source": [
    "np.random.seed(34)\n",
    "\n",
    "sample_222 = stats.binom.rvs(n=n_222, p=p_222, size=100)\n",
    "\n",
    "print(sample_222 )\n",
    "print(np.unique(sample_222))\n",
    "\n",
    "print(len(sample_222))\n",
    "print(sample_222.min())\n",
    "print(sample_222.max())\n",
    "\n"
   ]
  },
  {
   "cell_type": "markdown",
   "metadata": {},
   "source": [
    "Now the mean and variance of the randomly generated binomial numbers are calculated."
   ]
  },
  {
   "cell_type": "code",
   "execution_count": 30,
   "metadata": {},
   "outputs": [
    {
     "name": "stdout",
     "output_type": "stream",
     "text": [
      "18.13\n",
      "11.690000000000005\n"
     ]
    }
   ],
   "source": [
    "sample_222_describe = stats.describe(sample_222)\n",
    "print(sample_222_describe.mean)\n",
    "print(sample_222_describe.variance)"
   ]
  },
  {
   "cell_type": "markdown",
   "metadata": {},
   "source": [
    "What are the theoretical mean and variance based on n and p?"
   ]
  },
  {
   "cell_type": "code",
   "execution_count": 31,
   "metadata": {},
   "outputs": [
    {
     "name": "stdout",
     "output_type": "stream",
     "text": [
      "18.0\n",
      "9.9\n"
     ]
    }
   ],
   "source": [
    "E222 = n_222*p_222\n",
    "print(E222)\n",
    "\n",
    "V222 = E222 * (1-p_222)\n",
    "print(V222)"
   ]
  },
  {
   "cell_type": "code",
   "execution_count": 32,
   "metadata": {},
   "outputs": [
    {
     "data": {
      "text/plain": [
       "(array(18.), array(9.9))"
      ]
     },
     "execution_count": 32,
     "metadata": {},
     "output_type": "execute_result"
    }
   ],
   "source": [
    "# stats.binom.stats(n, p, moments='mvsk')\n",
    "stats.binom.stats(n=n_222, p=p_222)"
   ]
  },
  {
   "cell_type": "markdown",
   "metadata": {},
   "source": [
    "<p> \n",
    "In particular the theoretical variance differs from the calculated simulated variance.\n",
    "According to the law of of large numbers discussed above the average or variance of\n",
    "a simulated number of experiments should approach the theoretical expected value\n",
    "the more number of experiments are conducted.\n",
    "</p>\n",
    "\n",
    "#### A first look into simulations\n",
    "<p> \n",
    "As mentioned above \"stats.binom.stats\"\n",
    "calculates the statistical moments of a theoretical binomial distribution.\n",
    "The theoretical binomial distribution is often contrasted with\n",
    "empirical data distributions. \n",
    "This helps to understand the distribution of the data. It can answer questions like:\n",
    "\"Is the theoretical model an adequate representation of the data? Which \n",
    "theoretical distribution models are fitting my data best?\" If the model fits the data,\n",
    "inferences about the population statistics (true mean) are drawn from the empirical samples\n",
    "using the methods of inferential statistics (hypothesis testing, null-distribution, sampling distribution, p-value ...).\n",
    "</p>\n",
    "\n",
    "<p> \n",
    "In case the sample data taken empirically are not sufficient, which can be easily the case, simulation\n",
    "methods offer alternatives. Simulation methods means taking (simulating) random samples over and over again to enrich the data. <b>Simulation methods</b> include <a href=\"https://en.wikipedia.org/wiki/Resampling_(statistics)\" target=\"_blank\">Resampling (statistics)</a> or <a href=\"https://en.wikipedia.org/wiki/Monte_Carlo_method\" target=\"_blank\">Monte Carlo methods</a>.\n",
    "Simulations help to understand the underlying population distribution and\n",
    "allows to make parameter estimations about the \"true mean\" for example, when the gathering of \n",
    "additional empirical data would be not possible or too much effort.\n",
    "</p> \n",
    "\n",
    "<p>\n",
    "Below a simple binomial simulation is conducted.\n",
    "</p> "
   ]
  },
  {
   "cell_type": "code",
   "execution_count": 33,
   "metadata": {},
   "outputs": [],
   "source": [
    "expected_values = []\n",
    "expected_variances = []\n",
    "\n",
    "for i in range(0,3000):\n",
    "    sample_223 = stats.binom.rvs(n=n_222, p=p_222, size=100)\n",
    "    expected_values.append(stats.describe(sample_223).mean)\n",
    "    expected_variances.append(stats.describe(sample_223).variance)\n",
    "    "
   ]
  },
  {
   "cell_type": "code",
   "execution_count": 34,
   "metadata": {},
   "outputs": [
    {
     "name": "stdout",
     "output_type": "stream",
     "text": [
      "17.99891\n",
      "9.870395858585859\n"
     ]
    }
   ],
   "source": [
    "meanOfmeans_222 = stats.describe(expected_values).mean\n",
    "print(meanOfmeans_222)\n",
    "\n",
    "varianceOfvariances_22 = stats.describe(expected_variances).mean\n",
    "print(varianceOfvariances_22)"
   ]
  },
  {
   "cell_type": "code",
   "execution_count": 35,
   "metadata": {},
   "outputs": [
    {
     "data": {
      "image/png": "[encoded data removed]",
      "text/plain": [
       "<Figure size 720x288 with 2 Axes>"
      ]
     },
     "metadata": {
      "needs_background": "light"
     },
     "output_type": "display_data"
    }
   ],
   "source": [
    "fig, (ax1, ax2) = plt.subplots(1,2,figsize=(10,4))\n",
    "plt.suptitle(\"Expected values and variances\", fontsize=13)\n",
    "\n",
    "ax1.hist(expected_values, edgecolor='black', linewidth=4, color=\"magenta\")\n",
    "ax1.set_title(\"Expected values\")\n",
    "ax1.axvline(meanOfmeans_222, linewidth=6, color=\"blue\")\n",
    "\n",
    "ax2.hist(expected_variances, edgecolor=\"black\", linewidth=4, color=\"orange\")\n",
    "ax2.set_title(\"Expected variances\")\n",
    "ax2.axvline(varianceOfvariances_22, linewidth=6 , color=\"blue\")\n",
    "\n",
    "plt.savefig(\"Binomial expected values and variances\")\n",
    "plt.show()"
   ]
  },
  {
   "cell_type": "markdown",
   "metadata": {},
   "source": [
    "<p>\n",
    "The law of large number is proved. Increasing the number of binomial experiments\n",
    "approximates the theoretical expected variance to the calculated variance.\n",
    "</p> \n",
    "\n",
    "<p>\n",
    "The <b>confidence intervals</b> are interesting. (CI are discussed below.)\n",
    "For CI's the standard deviations are needed.\n",
    "</p> "
   ]
  },
  {
   "cell_type": "code",
   "execution_count": 36,
   "metadata": {},
   "outputs": [],
   "source": [
    "E_std_222 = np.sqrt(stats.describe(expected_values).variance)\n",
    "V_std_222 = np.sqrt(stats.describe(expected_variances).variance)\n"
   ]
  },
  {
   "cell_type": "code",
   "execution_count": 37,
   "metadata": {},
   "outputs": [
    {
     "name": "stdout",
     "output_type": "stream",
     "text": [
      "17.372934670583888 18.62488532941611\n"
     ]
    }
   ],
   "source": [
    "E_ci_222_low, E_ci_222_up = stats.norm.interval(alpha=0.95, \n",
    "                                                loc=meanOfmeans_222, scale=E_std_222)\n",
    "print(E_ci_222_low, E_ci_222_up)"
   ]
  },
  {
   "cell_type": "code",
   "execution_count": 38,
   "metadata": {},
   "outputs": [
    {
     "name": "stdout",
     "output_type": "stream",
     "text": [
      "7.128566960820178 12.612224756351539\n"
     ]
    }
   ],
   "source": [
    "V_ci_222_low, V_ci_222_up = stats.norm.interval(alpha=0.95,\n",
    "                                               loc=varianceOfvariances_22,\n",
    "                                               scale=V_std_222)\n",
    "print(V_ci_222_low, V_ci_222_up)"
   ]
  },
  {
   "cell_type": "markdown",
   "metadata": {},
   "source": [
    "### Binomial probability distributions\n",
    "\n",
    "<p>\n",
    "A simple definition of a probability distribution says that some outcomes are more likely than others.\n",
    "A discrete random variable like colors of cars driving on a road has a limited number or finite of outcomes,\n",
    "whereas the height of Orang-Utans is a continuous variable. A binomial random variable like a coin flip is\n",
    "a discrete random variable and two outcomes: head or tail with head equals k as the success case.\n",
    "</p> \n",
    "\n",
    "<p>\n",
    "There are two conceptual distributions for a binomial discrete random variable:\n",
    "</p> \n",
    "<ul>\n",
    "  <li>\n",
    "      The <b>probability mass function</b> allows to calculate the probability of a particular outcome k with a\n",
    "      probability of success p from n coin flips (trials). Is p = 0.5 the coin is fair and every outcome has a\n",
    "      chance of 0.5. Is it p = 0.7 the coin is biased and head has a higher chance. P has two meanings here. \n",
    "  </li>\n",
    "  <li>\n",
    "      The <b>probability cumulative distribution density function</b> (cdf) calculates the probability of\n",
    "      successes k or fewer (heads). It adds the probabilities of the mass function for certain discrete\n",
    "      outcomes. The cdf calculates the probability of successes for a certain range of interest.\n",
    "  </li>\n",
    "  \n",
    "</ul> "
   ]
  },
  {
   "cell_type": "markdown",
   "metadata": {},
   "source": [
    "### binom.pmf / binom.cdf(x, n, p)\n",
    "\n",
    "<p>\n",
    "binom.pmf() calculates the probability of having exactly k heads out of n coin flips.\n",
    "</p> \n",
    "\n",
    "<p>\n",
    "In scipy.stats the probability mass function for binom is:<br>\n",
    "binom.pmf(k) = choose(n, k) * p**k * (1-p)**(n-k)<br>\n",
    "for k in {0, 1,..., n}.<br>\n",
    "binom takes n and p as shape parameters.<br>\n",
    "The probability cumulative function:<br> \n",
    "binomial.cdf(k, n, p) or binom.cdf(x, n, p)<br>\n",
    "uses the same arguments, but is adds up the probabilities for every step up to k.\n",
    "</p> \n",
    "\n",
    "<a href=\"https://docs.scipy.org/doc/scipy-0.14.0/reference/generated/scipy.stats.binom.html\" target=\"_blank\">scipy.stats</a> \n"
   ]
  },
  {
   "cell_type": "markdown",
   "metadata": {},
   "source": [
    "What is the probability k = head will appear 25 times after 60 coin flips?"
   ]
  },
  {
   "cell_type": "code",
   "execution_count": 39,
   "metadata": {},
   "outputs": [
    {
     "data": {
      "text/plain": [
       "0.04502946450984524"
      ]
     },
     "execution_count": 39,
     "metadata": {},
     "output_type": "execute_result"
    }
   ],
   "source": [
    "np.random.seed(57)\n",
    "stats.binom.pmf(k=25, n=60, p=0.5) # k: successful outcomes, n: trials, p: probability"
   ]
  },
  {
   "cell_type": "markdown",
   "metadata": {},
   "source": [
    "You make some observations and determine customers of a shop are going to buy\n",
    "product A (a red bowl) 30 times of 100, when visiting the aisle (trials). <br>\n",
    "What ist the probability the red bowl is sold 14 times (successes) after 67 visits to the aisle?"
   ]
  },
  {
   "cell_type": "code",
   "execution_count": 40,
   "metadata": {},
   "outputs": [
    {
     "name": "stdout",
     "output_type": "stream",
     "text": [
      "0.028874206970822266\n",
      "2.89 %\n"
     ]
    }
   ],
   "source": [
    "np.random.seed(89)\n",
    "\n",
    "pmf_1 = stats.binom.pmf(k=14, n=67, p=30/100)\n",
    "print(pmf_1)\n",
    "print(round(pmf_1*100,2), \"%\")"
   ]
  },
  {
   "cell_type": "markdown",
   "metadata": {},
   "source": [
    "The probability is low. This is intuitively understandable. \n",
    "If the bowl is sold 30 times of 100, the probability of 14 times of 67 should be lower."
   ]
  },
  {
   "cell_type": "code",
   "execution_count": 41,
   "metadata": {},
   "outputs": [
    {
     "name": "stdout",
     "output_type": "stream",
     "text": [
      "0.0 %\n"
     ]
    }
   ],
   "source": [
    "pmf_2 = stats.binom.pmf(k=0, n=100, p=30/100)\n",
    "print(round(pmf_2*100,2), \"%\")\n",
    "# The p of no sales at all."
   ]
  },
  {
   "cell_type": "markdown",
   "metadata": {},
   "source": [
    "What is the probability of 30 or less sales out of 120 visits?"
   ]
  },
  {
   "cell_type": "code",
   "execution_count": 42,
   "metadata": {},
   "outputs": [
    {
     "name": "stdout",
     "output_type": "stream",
     "text": [
      "14%\n"
     ]
    }
   ],
   "source": [
    "cmf_1 = stats.binom.cdf(k=30, n=120, p=0.3)\n",
    "print(\"{}%\".format(round(cmf_1*100),0))"
   ]
  },
  {
   "cell_type": "markdown",
   "metadata": {},
   "source": [
    "The p of more than 30 sales after 120 visits to the aisle."
   ]
  },
  {
   "cell_type": "code",
   "execution_count": 43,
   "metadata": {},
   "outputs": [
    {
     "name": "stdout",
     "output_type": "stream",
     "text": [
      "86%\n"
     ]
    }
   ],
   "source": [
    "sf_1 = stats.binom.sf(k=30, n=120, p=0.3)\n",
    "print(\"{}%\".format(round(sf_1*100),2))"
   ]
  },
  {
   "cell_type": "markdown",
   "metadata": {},
   "source": [
    "#### Conducting numerous trials supported by Python functionalities\n",
    "\n",
    "<p>\n",
    "helps understanding random processes. Conducting trials are overflowing\n",
    "into a simulation, which is an approximate imitation of a process or system\n",
    "over a sequence.\n",
    "</p> \n",
    "\n",
    "<p>\n",
    "As n gets larger the probability of getting head gets smaller for the same p.\n",
    "As this is a fair coin scenario the number of successes should increase.\n",
    "The probability of success in the pmf is a point estimation.\n",
    "</p> \n",
    "\n",
    "\n",
    "<p>\n",
    "At first: throwing a fair coin (p=0.5) n times, how likely head (success) is going to come up 5 times?\n",
    "</p> \n"
   ]
  },
  {
   "cell_type": "code",
   "execution_count": 44,
   "metadata": {},
   "outputs": [
    {
     "name": "stdout",
     "output_type": "stream",
     "text": [
      "0.03125\n",
      "0.16406250000000008\n",
      "0.24609375000000025\n",
      "0.22558593750000003\n",
      "1.8818369085237732e-09\n",
      "5.939138117904783e-23\n"
     ]
    }
   ],
   "source": [
    "np.random.seed(34)\n",
    "\n",
    "print(stats.binom.pmf(k=5, n=5, p=0.5))\n",
    "print(stats.binom.pmf(k=5, n=7, p=0.5))\n",
    "print(stats.binom.pmf(k=5, n=10, p=0.5))\n",
    "print(stats.binom.pmf(k=5, n=11, p=0.5))\n",
    "print(stats.binom.pmf(k=5, n=50, p=0.5))\n",
    "print(stats.binom.pmf(k=5, n=100, p=0.5))"
   ]
  },
  {
   "cell_type": "code",
   "execution_count": 45,
   "metadata": {},
   "outputs": [],
   "source": [
    "n_22 = np.arange(5,500,5)\n",
    "\n",
    "p_22_dict = {}\n",
    "for i in n_22:\n",
    "    np.random.seed(12)\n",
    "    p_22 = stats.binom.pmf(k=5, n=i, p=0.5)\n",
    "    p_22_dict[i] = p_22"
   ]
  },
  {
   "cell_type": "code",
   "execution_count": 46,
   "metadata": {},
   "outputs": [
    {
     "data": {
      "text/html": [
       "<div>\n",
       "<style scoped>\n",
       "    .dataframe tbody tr th:only-of-type {\n",
       "        vertical-align: middle;\n",
       "    }\n",
       "\n",
       "    .dataframe tbody tr th {\n",
       "        vertical-align: top;\n",
       "    }\n",
       "\n",
       "    .dataframe thead th {\n",
       "        text-align: right;\n",
       "    }\n",
       "</style>\n",
       "<table border=\"1\" class=\"dataframe\">\n",
       "  <thead>\n",
       "    <tr style=\"text-align: right;\">\n",
       "      <th></th>\n",
       "      <th>P of success k</th>\n",
       "    </tr>\n",
       "    <tr>\n",
       "      <th>n trials</th>\n",
       "      <th></th>\n",
       "    </tr>\n",
       "  </thead>\n",
       "  <tbody>\n",
       "    <tr>\n",
       "      <th>5</th>\n",
       "      <td>0.031250</td>\n",
       "    </tr>\n",
       "    <tr>\n",
       "      <th>10</th>\n",
       "      <td>0.246094</td>\n",
       "    </tr>\n",
       "    <tr>\n",
       "      <th>15</th>\n",
       "      <td>0.091644</td>\n",
       "    </tr>\n",
       "    <tr>\n",
       "      <th>20</th>\n",
       "      <td>0.014786</td>\n",
       "    </tr>\n",
       "    <tr>\n",
       "      <th>25</th>\n",
       "      <td>0.001583</td>\n",
       "    </tr>\n",
       "  </tbody>\n",
       "</table>\n",
       "</div>"
      ],
      "text/plain": [
       "          P of success k\n",
       "n trials                \n",
       "5               0.031250\n",
       "10              0.246094\n",
       "15              0.091644\n",
       "20              0.014786\n",
       "25              0.001583"
      ]
     },
     "execution_count": 46,
     "metadata": {},
     "output_type": "execute_result"
    }
   ],
   "source": [
    "pmf_22_df = \\\n",
    "pd.DataFrame(p_22_dict.values(), index=p_22_dict.keys(), \n",
    "             columns=[\"P of success k\"])\n",
    "pmf_22_df.index.name = \"n trials\"\n",
    "pmf_22_df.head()"
   ]
  },
  {
   "cell_type": "code",
   "execution_count": 47,
   "metadata": {},
   "outputs": [
    {
     "name": "stdout",
     "output_type": "stream",
     "text": [
      "<class 'numpy.ndarray'>\n"
     ]
    },
    {
     "data": {
      "text/html": [
       "<div>\n",
       "<style scoped>\n",
       "    .dataframe tbody tr th:only-of-type {\n",
       "        vertical-align: middle;\n",
       "    }\n",
       "\n",
       "    .dataframe tbody tr th {\n",
       "        vertical-align: top;\n",
       "    }\n",
       "\n",
       "    .dataframe thead th {\n",
       "        text-align: right;\n",
       "    }\n",
       "</style>\n",
       "<table border=\"1\" class=\"dataframe\">\n",
       "  <thead>\n",
       "    <tr style=\"text-align: right;\">\n",
       "      <th></th>\n",
       "      <th>k</th>\n",
       "      <th>n</th>\n",
       "    </tr>\n",
       "  </thead>\n",
       "  <tbody>\n",
       "    <tr>\n",
       "      <th>0</th>\n",
       "      <td>0</td>\n",
       "      <td>0</td>\n",
       "    </tr>\n",
       "    <tr>\n",
       "      <th>1</th>\n",
       "      <td>30</td>\n",
       "      <td>50</td>\n",
       "    </tr>\n",
       "    <tr>\n",
       "      <th>2</th>\n",
       "      <td>60</td>\n",
       "      <td>100</td>\n",
       "    </tr>\n",
       "    <tr>\n",
       "      <th>3</th>\n",
       "      <td>90</td>\n",
       "      <td>150</td>\n",
       "    </tr>\n",
       "    <tr>\n",
       "      <th>4</th>\n",
       "      <td>120</td>\n",
       "      <td>200</td>\n",
       "    </tr>\n",
       "    <tr>\n",
       "      <th>5</th>\n",
       "      <td>150</td>\n",
       "      <td>250</td>\n",
       "    </tr>\n",
       "    <tr>\n",
       "      <th>6</th>\n",
       "      <td>180</td>\n",
       "      <td>300</td>\n",
       "    </tr>\n",
       "    <tr>\n",
       "      <th>7</th>\n",
       "      <td>210</td>\n",
       "      <td>350</td>\n",
       "    </tr>\n",
       "    <tr>\n",
       "      <th>8</th>\n",
       "      <td>240</td>\n",
       "      <td>400</td>\n",
       "    </tr>\n",
       "    <tr>\n",
       "      <th>9</th>\n",
       "      <td>270</td>\n",
       "      <td>450</td>\n",
       "    </tr>\n",
       "    <tr>\n",
       "      <th>10</th>\n",
       "      <td>300</td>\n",
       "      <td>500</td>\n",
       "    </tr>\n",
       "  </tbody>\n",
       "</table>\n",
       "</div>"
      ],
      "text/plain": [
       "      k    n\n",
       "0     0    0\n",
       "1    30   50\n",
       "2    60  100\n",
       "3    90  150\n",
       "4   120  200\n",
       "5   150  250\n",
       "6   180  300\n",
       "7   210  350\n",
       "8   240  400\n",
       "9   270  450\n",
       "10  300  500"
      ]
     },
     "execution_count": 47,
     "metadata": {},
     "output_type": "execute_result"
    }
   ],
   "source": [
    "k_list = np.arange(0,330,30)\n",
    "print(type(k_list))\n",
    "\n",
    "n_list = np.arange(0,550, 50)\n",
    "\n",
    "index_1 = np.arange(0,11,1)\n",
    "pd.DataFrame(list(zip(k_list, n_list)), index=index_1, columns=['k', 'n'])"
   ]
  },
  {
   "cell_type": "code",
   "execution_count": 48,
   "metadata": {},
   "outputs": [
    {
     "name": "stdout",
     "output_type": "stream",
     "text": [
      "1.0\n",
      "0.04185914925255199\n",
      "0.010843866711637149\n",
      "0.0032380490407807132\n",
      "0.0010251040221101145\n",
      "0.00033511233495657494\n",
      "0.0001117992969674421\n",
      "3.782536523678037e-05\n",
      "1.2929774949875178e-05\n",
      "4.454607234661577e-06\n",
      "1.5442550112240126e-06\n"
     ]
    }
   ],
   "source": [
    "for i,m in zip(k_list, n_list):\n",
    "    print(stats.binom.pmf(k=i, n=m, p=0.5))"
   ]
  },
  {
   "cell_type": "markdown",
   "metadata": {},
   "source": [
    "The lower the probability of p the less likely are successes or head or inversely."
   ]
  },
  {
   "cell_type": "code",
   "execution_count": 49,
   "metadata": {},
   "outputs": [
    {
     "name": "stdout",
     "output_type": "stream",
     "text": [
      "3.645000000000009e-07\n",
      "0.301989888\n"
     ]
    }
   ],
   "source": [
    "np.random.seed(45)\n",
    "\n",
    "print(stats.binom.pmf(k=8, n=10, p=0.1))\n",
    "print(stats.binom.pmf(k=8, n=10, p=0.8))"
   ]
  },
  {
   "cell_type": "markdown",
   "metadata": {},
   "source": [
    "This function loops over list of the three input values of \n",
    "stats.binom.pmf simultaneously and "
   ]
  },
  {
   "cell_type": "code",
   "execution_count": 50,
   "metadata": {},
   "outputs": [],
   "source": [
    "def binom_pmf_sim(s, t, p):\n",
    "    \n",
    "    \"\"\"This func loops over three dim 1 arrays or lists simultaneously\n",
    "    and outputs stats.binom.pmf into a dict.\"\"\"\n",
    "    \n",
    "    p_sim_list = []\n",
    "    pd.set_option('display.float_format', '{:.2E}'.format)\n",
    "    p_sim_df = pd.DataFrame(columns=[\"P of success\"], index=p)\n",
    "    \n",
    "    for a,b,c in zip(s,t,p):\n",
    "        \n",
    "        h=stats.binom.pmf(k=a, n=b, p=c)\n",
    "        p_sim_list.append(h)\n",
    "                \n",
    "        p_sim_df[\"P of success\"] = h\n",
    "        \n",
    "        \n",
    "    return p_sim_list, p_sim_df\n",
    "    "
   ]
  },
  {
   "cell_type": "markdown",
   "metadata": {},
   "source": [
    "Randomly generating input values for the binom_pmf_sim binom_pmf_sim."
   ]
  },
  {
   "cell_type": "code",
   "execution_count": 51,
   "metadata": {},
   "outputs": [
    {
     "name": "stdout",
     "output_type": "stream",
     "text": [
      "100\n",
      "(100,)\n",
      "<class 'list'>\n",
      "[5.0, 10.0, 15.0, 20.0, 25.0, 30.0, 35.0, 40.0, 45.0, 50.0]\n"
     ]
    }
   ],
   "source": [
    "np.random.seed(45)\n",
    "\n",
    "k_33 = np.linspace(5,500, 100).flatten().tolist()\n",
    "print(len(k_33))\n",
    "print(np.shape(k_33))\n",
    "print(type(k_33))\n",
    "print(k_33[:10])"
   ]
  },
  {
   "cell_type": "code",
   "execution_count": 52,
   "metadata": {},
   "outputs": [
    {
     "name": "stdout",
     "output_type": "stream",
     "text": [
      "100\n",
      "100\n",
      "[0.5555555555555556, 0.6666666666666666, 0.7777777777777777, 0.8888888888888888, 1.0, 0.0]\n"
     ]
    }
   ],
   "source": [
    "np.random.seed(45)\n",
    "\n",
    "n_33 = np.linspace(5, 1000, 100).flatten().tolist()\n",
    "print(len(n_33 ))\n",
    "\n",
    "p_33 = np.tile(np.linspace(0, 1, 10), 10).flatten().tolist()\n",
    "print(len(p_33))\n",
    "print(p_33[15:21])"
   ]
  },
  {
   "cell_type": "code",
   "execution_count": 53,
   "metadata": {},
   "outputs": [
    {
     "name": "stdout",
     "output_type": "stream",
     "text": [
      "100\n",
      "[0.0, 5.005174097188337e-07, 4.492758898748847e-05, 0.0022671187442495286, 0.04065987766731142, 0.105364759560989, 0.009062744237806165, 1.3336339808361713e-06, 5.4185526287165515e-17, 0.0]\n"
     ]
    }
   ],
   "source": [
    "pmf_33_l, pmf_33_df = binom_pmf_sim(k_33, n_33, p_33)\n",
    "\n",
    "print(len(pmf_33_l))\n",
    "print(pmf_33_l[:10])\n"
   ]
  },
  {
   "cell_type": "markdown",
   "metadata": {},
   "source": [
    "### Probability cumulative distribution function"
   ]
  },
  {
   "cell_type": "code",
   "execution_count": 54,
   "metadata": {},
   "outputs": [
    {
     "name": "stdout",
     "output_type": "stream",
     "text": [
      "{0: '0.0010', 1: '0.0107', 2: '0.0547', 3: '0.1719', 4: '0.3770', 5: '0.6230', 6: '0.8281', 7: '0.9453', 8: '0.9893', 9: '0.9990', 10: '1.0000'}\n"
     ]
    }
   ],
   "source": [
    "p_k1 = {}\n",
    "\n",
    "for k in np.arange(0,11,1):\n",
    "    p_k1[k] = \"{0:.4f}\".format(stats.binom.cdf(k=k, n=10, p=0.5))\n",
    "\n",
    "print(p_k1)"
   ]
  },
  {
   "cell_type": "code",
   "execution_count": 55,
   "metadata": {},
   "outputs": [
    {
     "name": "stdout",
     "output_type": "stream",
     "text": [
      "{1: 0.01074, 2: 0.05469, 3: 0.17187, 4: 0.37695, 5: 0.62305, 6: 0.82812, 7: 0.94531, 8: 0.98926, 9: 0.99902, 10: 1.0}\n"
     ]
    }
   ],
   "source": [
    "p_1={}\n",
    "\n",
    "for i in range(1,11):\n",
    "    p_1[i] = round(stats.binom.cdf(k=i, n=10, p=0.5),5)\n",
    "    \n",
    "print(p_1)"
   ]
  },
  {
   "cell_type": "code",
   "execution_count": 56,
   "metadata": {},
   "outputs": [
    {
     "data": {
      "image/png": "[encoded data removed]",
      "text/plain": [
       "<Figure size 576x288 with 1 Axes>"
      ]
     },
     "metadata": {
      "needs_background": "light"
     },
     "output_type": "display_data"
    }
   ],
   "source": [
    "plt.figure(figsize=(8,4))\n",
    "\n",
    "splot = sns.barplot(x=list(p_1.keys()), y=list(p_1.values()), edgecolor='black', linewidth=3)\n",
    "\n",
    "for p in splot.patches:\n",
    "    splot.annotate(format(p.get_height(), '.2f'), \n",
    "                   (p.get_x() + p.get_width() / 2., p.get_height()), \n",
    "                   ha = 'center', va = 'center', \n",
    "                   xytext = (0, 10), \n",
    "                   textcoords = 'offset points')\n",
    "    \n",
    "\n",
    "plt.xlabel(\"Successes = k\")\n",
    "plt.ylabel(\"Probabilities\")\n",
    "\n",
    "plt.show()"
   ]
  },
  {
   "cell_type": "markdown",
   "metadata": {},
   "source": [
    "#### Fraud detection of insurance claims\n",
    "\n",
    "<p>\n",
    "A insurance enterprise is considering claims. There are two possibilities. The claim is a fraud or the claim \n",
    "is not a fraud and justified. The company knows that 3/10 of insurance claims are fraudulent. \n",
    "They are using binomial probabilities as a first basic check.\n",
    "</p> \n",
    "\n",
    "<p>\n",
    "The insurer get 14 new claims. What is the probability that exactly 5 claims are fraudulent?\n",
    "The probability is around 20%. This means 3 cases out of 14 are likely fraudulent.\n",
    "Of course this does not say anything, which claim is fraudulent, but the \n",
    "insurance company can adjust the effort to find these cases accordingly. \n",
    "What is the probability of 7 fraudulent claims? And so on.\n",
    "</p> "
   ]
  },
  {
   "cell_type": "code",
   "execution_count": 57,
   "metadata": {},
   "outputs": [
    {
     "name": "stdout",
     "output_type": "stream",
     "text": [
      "19.63\n"
     ]
    }
   ],
   "source": [
    "fraud1 = round(stats.binom.pmf(k=5, n=14, p=0.3),4)*100\n",
    "print(fraud1)"
   ]
  },
  {
   "cell_type": "code",
   "execution_count": 58,
   "metadata": {},
   "outputs": [
    {
     "name": "stdout",
     "output_type": "stream",
     "text": [
      "3.15\n"
     ]
    }
   ],
   "source": [
    "# What is the probability of 7 fraudulent claims?\n",
    "fraud2 = round(stats.binom.sf(k=7, n=14, p=0.3),4)*100\n",
    "print(fraud2)"
   ]
  },
  {
   "cell_type": "code",
   "execution_count": 59,
   "metadata": {},
   "outputs": [
    {
     "name": "stdout",
     "output_type": "stream",
     "text": [
      "58.42\n"
     ]
    }
   ],
   "source": [
    "# What is the probability of 4 or less fraudulent claims?\n",
    "fraud3 = round(stats.binom.cdf(k=4, n=14, p=0.3),4)*100\n",
    "print(fraud3)"
   ]
  },
  {
   "cell_type": "code",
   "execution_count": 60,
   "metadata": {},
   "outputs": [
    {
     "name": "stdout",
     "output_type": "stream",
     "text": [
      "42.34\n"
     ]
    }
   ],
   "source": [
    "# What is the probability of exactly 3 or 4 fraudulent claims?\n",
    "fraud4 = round(stats.binom.pmf(k=3, n=14, p=0.3) + \\\n",
    "         stats.binom.pmf(k=4, n=14, p=0.3), 4)*100\n",
    "print(fraud4)"
   ]
  },
  {
   "cell_type": "code",
   "execution_count": 61,
   "metadata": {},
   "outputs": [
    {
     "name": "stdout",
     "output_type": "stream",
     "text": [
      "57.47\n"
     ]
    }
   ],
   "source": [
    "# What is the probability of less than 3 or more than 5 fraudulent claims?\n",
    "fraud5 = round(stats.binom.cdf(k=3, n=14, p=0.3) + \\\n",
    "         stats.binom.sf(k=5, n=14, p=0.3), 4)*100\n",
    "print(fraud5 )"
   ]
  },
  {
   "cell_type": "markdown",
   "metadata": {},
   "source": [
    "#### Determining the probabilities of defects\n",
    "\n",
    "<p>\n",
    "As quality manager you want to know understand the process of defects in \n",
    "the production of medical equipment you are responsible for. \n",
    "A defect rate of 3% is acceptable.\n",
    "By taking a random sample of 100 pieces, what is the p given k defects?\n",
    "Defects is a binomial random variable with the outcomes defect or not defect.\n",
    "</p> \n"
   ]
  },
  {
   "cell_type": "code",
   "execution_count": 62,
   "metadata": {},
   "outputs": [
    {
     "name": "stdout",
     "output_type": "stream",
     "text": [
      "0.1706055956116171\n",
      "17.0%\n"
     ]
    }
   ],
   "source": [
    "pmf_defects = stats.binom.pmf(k=4, n=100, p=3/100)\n",
    "print(pmf_defects)\n",
    "print(\"{}%\".format(round(pmf_defects*100, 0)))"
   ]
  },
  {
   "cell_type": "markdown",
   "metadata": {},
   "source": [
    "Above the probability of getting exactly 3 defects.\n",
    "Below the probability of getting exactly 10 defects."
   ]
  },
  {
   "cell_type": "code",
   "execution_count": 63,
   "metadata": {},
   "outputs": [
    {
     "name": "stdout",
     "output_type": "stream",
     "text": [
      "0.0006591336184905558\n",
      "0.0%\n"
     ]
    }
   ],
   "source": [
    "pmf_defects_2 = stats.binom.pmf(k=10, n=100, p=0.03)\n",
    "print(pmf_defects_2)\n",
    "print(\"{}%\".format(round(pmf_defects_2*100, 0)))"
   ]
  },
  {
   "cell_type": "markdown",
   "metadata": {},
   "source": [
    "Getting six \"or less\" defects, when taking a sample of 100."
   ]
  },
  {
   "cell_type": "code",
   "execution_count": 64,
   "metadata": {},
   "outputs": [
    {
     "name": "stdout",
     "output_type": "stream",
     "text": [
      "0.9687724905686446\n",
      "97%\n"
     ]
    }
   ],
   "source": [
    "cdf_defects = stats.binom.cdf(k=6, n=100, p=0.03)\n",
    "print(cdf_defects)\n",
    "print(\"{}%\".format(round(cdf_defects*100),2))"
   ]
  },
  {
   "cell_type": "code",
   "execution_count": 65,
   "metadata": {},
   "outputs": [
    {
     "name": "stdout",
     "output_type": "stream",
     "text": [
      "0.19462212006583648\n",
      "19%\n"
     ]
    }
   ],
   "source": [
    "cdf_defects_2 = stats.binom.cdf(k=1, n=100, p=0.03)\n",
    "print(cdf_defects_2)\n",
    "print(\"{}%\".format(round(cdf_defects_2*100),2))"
   ]
  },
  {
   "cell_type": "markdown",
   "metadata": {},
   "source": [
    "The probability of getting 6 or more defects."
   ]
  },
  {
   "cell_type": "code",
   "execution_count": 66,
   "metadata": {},
   "outputs": [
    {
     "name": "stdout",
     "output_type": "stream",
     "text": [
      "0.031227509431355185\n",
      "3%\n"
     ]
    }
   ],
   "source": [
    "sf_defects = stats.binom.sf(k=6, n=100, p=0.03)\n",
    "print(sf_defects )\n",
    "print(\"{}%\".format(round(sf_defects*100),2))"
   ]
  },
  {
   "cell_type": "markdown",
   "metadata": {},
   "source": [
    "<p>\n",
    "The quality manager gets suspicious if he finds in his actual samples of 100 pieces\n",
    "conducted at the real world production line more than 6 defects. With only 3% it is unlikely\n",
    "that the binomial model with p=0.03 describes the actual process. He then searches\n",
    "for the reasons of the mismatch. Maybe there is one machine not working well \n",
    "and produces more defects.\n",
    "</p> \n",
    "\n",
    "<p>\n",
    "However with this simple binomial model he does not know, whether or not \n",
    "his assumption about the process is true. He can go on putting resources into \n",
    "the measurement and taking samples of the production in the real world or he \n",
    "can try to simulate the real world processes and derive conclusions using inferential statistics.\n",
    "</p> \n",
    "\n",
    "<p>\n",
    "A common use case for simulation is the <b>Monte Carlo Simulation</b>.\n",
    "</p> "
   ]
  },
  {
   "cell_type": "markdown",
   "metadata": {},
   "source": [
    "## Monte Carlo Simulation\n",
    "\n",
    "<p>\n",
    "The <b>Monte Carlo method</b> is a technique to improve decision making under uncertain \n",
    "conditions. For this purpose simulations are conducted \"that randomly generate\n",
    "values for independent variables, and then simulates a range of potential\n",
    "process outcomes based on this set of randomly generated IVs. You can use\n",
    "Monte Carlo methods to test hypotheses, to generate parameter estimates, to\n",
    "predict scenario outcomes, and to validate models. The method is powerful\n",
    "because it can be used to very quickly simulate anywhere from 1 to 10,000\n",
    "(or more) simulation samples for any processes you are trying to evaluate.\n",
    "Interestingly, this method was named after the infamous Casino de Monte\n",
    "Carlo, in Monaco. (\"Data Science for Dummies\", 2015, p. 61)\" It was first\n",
    "developed by Stanislaw Ulam, a mathematician who worked on the Manhattan Project.\n",
    "</p> \n",
    "\n",
    "According to <a href=\"https://www.ibm.com/cloud/learn/monte-carlo-simulation\" target=\"_blank\">IBM</a> every <b>Monte Carlo technique involves three basic steps</b>:\n",
    "\n",
    "<ol>\n",
    "<li>Set up the predictive model, identifying both the dependent variable to be predicted and the independent variables (also known as the input, risk or predictor variables) that will drive the prediction.</li>\n",
    "<li>Specify probability distributions of the independent variables. Use historical data and/or the analyst’s subjective judgment to define a range of likely values and assign probability weights for each.</li>\n",
    "<li>Run simulations repeatedly, generating random values of the independent variables. Do this until enough results are gathered to make up a representative sample of the near infinite number of possible combinations.</li>\n",
    "</ol>\n",
    "\n",
    "<p>\n",
    "The basic steps are used here for understanding the problem taken from <b>\"Data Science for Dummies\"</b> (\"Data Science for Dummies\", 2015, p. 66):\n",
    "</p> \n",
    "\n",
    "<p>\n",
    "<b>Case study</b><br>\n",
    "\"Assume that you’re the quality assurance manager at a company that manufactures an important piece of medical equipment. These pieces of equipment are manufactured to order, and you estimate that, on average, 1 in 1,000\n",
    "is defective. If a defective part is found, the manufacturing equipment must\n",
    "be taken offline, checked, and reset. You want to determine how often this\n",
    "must be done.\" The challenge here is to generate parameter estimates, which answer this question.\n",
    "</p> \n",
    "\n",
    "<p>\n",
    "<b>Identifying the components:</b><br>\n",
    "</p> \n",
    "\n",
    "<ol>\n",
    "<li>\n",
    "The random variable is the number of parts inspected till a defective part is found. The input variable \n",
    "here is the estimation of 1/1000. The plant manager may have intuition or has made observations in the past \n",
    "like Stanislaw Ulam has done by observing the outcomes of playing countless games of solitaire. However\n",
    "he cannot be sure that his observations reflect the true real world process. He could improve his judgement\n",
    "by conducting a number of real world process experiments, but this would cost too much effort. Instead\n",
    "he conducts Monte Carlo simulations. This way he is also able to adjust the estimation and build different\n",
    "outcome scenarios.\n",
    "</li>\n",
    "<li>The probability distribution is geometric. The distribution shows the number of non‐\n",
    "defective equipment pieces before you have a high probability\n",
    "of discovering a defective piece of equipment\n",
    "</li>\n",
    "<li>\n",
    "The representative sample created by simulations is the sampling distribution. The simulations are conducted in Python, so now have a look at the basic functions used here. </li>\n",
    "</ol>\n",
    "\n"
   ]
  },
  {
   "cell_type": "markdown",
   "metadata": {},
   "source": [
    "### Simulations of geometric distributions\n",
    "\n",
    "<p>\n",
    "The geometric distribution gives the probability that the first occurrence of success requires k independent trials, each with success probability p. If the probability of success on each trial is p, then the probability that the kth trial (out of k trials) is the first success.<br>\n",
    "<a href=\"https://en.wikipedia.org/wiki/Geometric_distribution\" target=\"_blank\">Wikipedia</a> \n",
    "</p>\n",
    "\n",
    "\n",
    "\n",
    "Using \"scipy.stats.geom\"geometric discrete random variables are created here.\n"
   ]
  },
  {
   "cell_type": "code",
   "execution_count": 67,
   "metadata": {},
   "outputs": [],
   "source": [
    "r = stats.geom.rvs(1/1000, size=1000)"
   ]
  },
  {
   "cell_type": "code",
   "execution_count": 68,
   "metadata": {},
   "outputs": [
    {
     "data": {
      "text/plain": [
       "6900"
      ]
     },
     "execution_count": 68,
     "metadata": {},
     "output_type": "execute_result"
    }
   ],
   "source": [
    "r.max()"
   ]
  },
  {
   "cell_type": "code",
   "execution_count": 69,
   "metadata": {},
   "outputs": [
    {
     "data": {
      "text/plain": [
       "1"
      ]
     },
     "execution_count": 69,
     "metadata": {},
     "output_type": "execute_result"
    }
   ],
   "source": [
    "r.min()"
   ]
  },
  {
   "cell_type": "code",
   "execution_count": 70,
   "metadata": {},
   "outputs": [
    {
     "data": {
      "text/plain": [
       "984.003"
      ]
     },
     "execution_count": 70,
     "metadata": {},
     "output_type": "execute_result"
    }
   ],
   "source": [
    "r.mean()"
   ]
  },
  {
   "cell_type": "code",
   "execution_count": 71,
   "metadata": {},
   "outputs": [
    {
     "data": {
      "text/plain": [
       "6900"
      ]
     },
     "execution_count": 71,
     "metadata": {},
     "output_type": "execute_result"
    }
   ],
   "source": [
    "n = stats.geom.rvs(1/1000, size=1000)\n",
    "r.max()"
   ]
  },
  {
   "cell_type": "code",
   "execution_count": 72,
   "metadata": {},
   "outputs": [
    {
     "data": {
      "text/plain": [
       "998.344"
      ]
     },
     "execution_count": 72,
     "metadata": {},
     "output_type": "execute_result"
    }
   ],
   "source": [
    "r = stats.geom.rvs(1/1000, size=1000)\n",
    "r.max()\n",
    "r.min()\n",
    "n.mean()"
   ]
  },
  {
   "cell_type": "markdown",
   "metadata": {},
   "source": [
    "### Sampling distributions\n",
    "\n",
    "Now considering the concept of the concept of the <b>sampling distribution</b>:\n",
    "\n",
    "<p>\n",
    "\"A point estimator is considered a random variable. It has its very own probability distribution, known as its sampling distribution. If the simulation is repeated enough times (usually 30 or more), you can assume that the sampling distribution is normal and that you can estimate its mean and variability, which allows you to conclude some things about the population values you’re estimating.\" (Datascience for Dummies, p. 67)\n",
    "</p> \n",
    "\n",
    "<p>\n",
    "Below a number of simulations is conducted by creating random numbers of the\n",
    "geometric distribution. For every distribution a point estimation is taken.\n",
    "This can be any point estimation like the mean or the standard deviation, but the\n",
    "most common is the mean.\n",
    "</p> \n"
   ]
  },
  {
   "cell_type": "markdown",
   "metadata": {},
   "source": [
    "#### Simulation 1"
   ]
  },
  {
   "cell_type": "code",
   "execution_count": 73,
   "metadata": {},
   "outputs": [],
   "source": [
    "geom_simulation_n = 101 # number of simulations\n",
    "geom_size = 1000 # number of geometric random variables\n",
    "geom_probability = 0.001 # probability of success after failures\n",
    "\n",
    "geom_distribution_means = []\n",
    "geom_distributions = []\n",
    "\n",
    "i=1\n",
    "while i < geom_simulation_n:\n",
    "    \n",
    "    geom_dist = stats.geom.rvs(geom_probability, size=geom_size)\n",
    "    geom_distributions.append(geom_dist)\n",
    "    \n",
    "    \n",
    "    geom_mean = geom_dist.mean()\n",
    "    geom_distribution_means.append(geom_mean)\n",
    "    \n",
    "    i += 1\n",
    "    "
   ]
  },
  {
   "cell_type": "markdown",
   "metadata": {},
   "source": [
    "Picking out one simulation from 100."
   ]
  },
  {
   "cell_type": "code",
   "execution_count": 74,
   "metadata": {},
   "outputs": [
    {
     "data": {
      "text/plain": [
       "array([ 477,  463, 2651,  978, 4791, 1574, 1660,  903, 1297, 2160, 1625,\n",
       "        668, 2364,   84,  464,  202,  288, 1236,   59,   59, 6214,  276,\n",
       "        308, 1066,  101, 1416,   30, 1067,  374,  461])"
      ]
     },
     "execution_count": 74,
     "metadata": {},
     "output_type": "execute_result"
    }
   ],
   "source": [
    "geom_distributions[15][:30]"
   ]
  },
  {
   "cell_type": "code",
   "execution_count": 75,
   "metadata": {},
   "outputs": [
    {
     "data": {
      "image/png": "[encoded data removed]",
      "text/plain": [
       "<Figure size 576x288 with 2 Axes>"
      ]
     },
     "metadata": {
      "needs_background": "light"
     },
     "output_type": "display_data"
    }
   ],
   "source": [
    "fig, (ax1,ax2) = plt.subplots(1,2, figsize=(8,4))\n",
    "plt.suptitle(\"Simulation 15\")\n",
    "\n",
    "ax1.scatter(x=np.linspace(1,1000,1000), y =geom_distributions[15],\n",
    "            edgecolor=\"red\", linewidth=0.5, color=\"darkgreen\")\n",
    "ax1.set_title(\"Scatterplot\")\n",
    "\n",
    "ax2.hist(geom_distributions[15], color=\"gold\",\n",
    "        edgecolor=\"black\", linewidth=4,\n",
    "        align='mid')\n",
    "ax2.set_title(\"Histogram\")\n",
    "\n",
    "plt.show()"
   ]
  },
  {
   "cell_type": "markdown",
   "metadata": {},
   "source": [
    "Just from the look there are outliers."
   ]
  },
  {
   "cell_type": "code",
   "execution_count": 76,
   "metadata": {},
   "outputs": [
    {
     "data": {
      "image/png": "[encoded data removed]",
      "text/plain": [
       "<Figure size 720x216 with 1 Axes>"
      ]
     },
     "metadata": {
      "needs_background": "light"
     },
     "output_type": "display_data"
    }
   ],
   "source": [
    "fig, ax = plt.subplots(1,1, figsize=(10,3))\n",
    "\n",
    "\n",
    "ax = sns.boxplot(x=geom_distributions[15], orient=\"h\", \n",
    "                 color=\"darkgreen\", linewidth=2)\n",
    "ax.set_title(\"Simple outlier detection with a boxplot\")\n",
    "\n",
    "\n",
    "plt.show()"
   ]
  },
  {
   "cell_type": "code",
   "execution_count": 77,
   "metadata": {},
   "outputs": [
    {
     "data": {
      "text/plain": [
       "(0.0, 4000.0)"
      ]
     },
     "execution_count": 77,
     "metadata": {},
     "output_type": "execute_result"
    },
    {
     "data": {
      "image/png": "[encoded data removed]",
      "text/plain": [
       "<Figure size 576x288 with 1 Axes>"
      ]
     },
     "metadata": {
      "needs_background": "light"
     },
     "output_type": "display_data"
    }
   ],
   "source": [
    "fig, ax = plt.subplots(1,1, figsize=(8,4))\n",
    "plt.suptitle(\"Simulation 15 cleaned from outliers\")\n",
    "\n",
    "ax.hist(geom_distributions[15], color=\"r\",\n",
    "        edgecolor=\"black\", linewidth=4,\n",
    "        align='mid')\n",
    "ax.set_xlim([0,4000])"
   ]
  },
  {
   "cell_type": "markdown",
   "metadata": {},
   "source": [
    "What does the confidence interval look like?<br>\n",
    "A confidence interval is the probability that a population parameter (mean)<br>\n",
    "will fall between a set a boundaries values a certain number of times (e.g. 95% - confidence level).<br>\n",
    "The smaller the confidence interval the lower is the uncertainty."
   ]
  },
  {
   "cell_type": "code",
   "execution_count": 78,
   "metadata": {},
   "outputs": [
    {
     "name": "stdout",
     "output_type": "stream",
     "text": [
      "-1003.6397646376437 3001.089764637644\n"
     ]
    }
   ],
   "source": [
    "ci_151, c_152   = stats.t.interval(alpha=0.95, df=len(geom_distributions[15])-1, \n",
    "                  loc=geom_distributions[15].mean(), \n",
    "                  scale=np.std(geom_distributions[15])) \n",
    "\n",
    "print(ci_151, c_152)"
   ]
  },
  {
   "cell_type": "markdown",
   "metadata": {},
   "source": [
    "We are confident that the true value of the population mean falls between<br> \n",
    "(-1003.6397646376437, 3001.089764637644) in 95% of the times, if we would<br> \n",
    "take samples of the population over and over again.<br>\n",
    "This is obviously not a good CI in terms of certainty."
   ]
  },
  {
   "cell_type": "markdown",
   "metadata": {},
   "source": [
    "<p>\n",
    "Simulation 15 is not a normal distribution. This was to be expected. \n",
    "This does not matter. According to the concept of the sampling distribution and the central\n",
    "limit theorem we can calculate point estimations (statistics) of the\n",
    "population, even if the underlying simulated distributions are not normal.<br>\n",
    "</p> \n",
    "\n",
    "### The central limit theorem\n",
    "\n",
    "<p>\n",
    "The central limit theorem then tells us that no matter what the distribution of the population is, the shape of the sampling distribution will approach normality as the sample size (N) increases.<br>\n",
    "<a href=\"https://www.simplypsychology.org/central-limit-theorem.html\" target=\"_blank\">What is central limit theorem in statistics?</a>\n",
    "</p> \n",
    "\n",
    "\n",
    "<p>\n",
    "This in turn allows us to draw many conclusions with regard to statistical \n",
    "hypothesis testing from the normal distribution.\n",
    "</p> \n",
    "\n",
    "<p>\n",
    "So let's have a look at the averages of the simulated\n",
    "distributions. The averages are building the sampling distribution. \n",
    "As for every other distribution for the sampling distribution \n",
    "descriptive statistics can be calculated,\n",
    "showing the mean and the variability.\n",
    "</p> \n",
    "\n"
   ]
  },
  {
   "cell_type": "code",
   "execution_count": 79,
   "metadata": {},
   "outputs": [
    {
     "name": "stdout",
     "output_type": "stream",
     "text": [
      "Average of averages: 1004.55\n",
      "Minimum of simulation averages: 931.292\n",
      "Maximum of simulation averages: 1087.791\n",
      "Standard deviation of simulation averages: 31.92\n",
      "0.25 quantile of simulation averages: 982.15\n",
      "0.75 quantile of simulation averages: 1023.46\n"
     ]
    }
   ],
   "source": [
    "print(\"Average of averages: {mean}\".\\\n",
    "      format(mean=round(np.mean(geom_distribution_means),2)))\n",
    "\n",
    "print(\"Minimum of simulation averages: {min}\".\\\n",
    "      format(min=np.min(geom_distribution_means)))\n",
    "\n",
    "print(\"Maximum of simulation averages: {max}\".\\\n",
    "      format(max=np.max(geom_distribution_means)))\n",
    "\n",
    "print(\"Standard deviation of simulation averages: {std}\".\\\n",
    "      format(std=round(np.std(geom_distribution_means),2)))\n",
    "\n",
    "print(\"0.25 quantile of simulation averages: {firstQuantile}\".\\\n",
    "      format(firstQuantile=round(np.quantile(geom_distribution_means, 0.25),2)))\n",
    "\n",
    "print(\"0.75 quantile of simulation averages: {thirdQuantile}\".\\\n",
    "      format(thirdQuantile=round(np.quantile(geom_distribution_means, 0.75),2)))\n"
   ]
  },
  {
   "cell_type": "markdown",
   "metadata": {},
   "source": [
    "Turning this into a helper function."
   ]
  },
  {
   "cell_type": "code",
   "execution_count": 80,
   "metadata": {},
   "outputs": [],
   "source": [
    "def point_estimations(dist):\n",
    "    \n",
    "    \"\"\"This calculates statistics of the given sampling distribution\n",
    "    and print those out. It additionally returns the statistics as a list in this \n",
    "    order: mean, median, minimum, maximum, std, quantiles.\"\"\"\n",
    "    \n",
    "    if isinstance(dist, list):\n",
    "        pass\n",
    "    elif isinstance(dist, dict):\n",
    "        dist = list(dist.values())\n",
    "        \n",
    "    statistics = []  \n",
    "    \n",
    "    mean = round(np.mean(dist),2)\n",
    "    print(\"Average of simulation averages: {mean}\".\\\n",
    "      format(mean=mean))\n",
    "    statistics.append(mean)\n",
    "    \n",
    "    median = round(np.median(dist),2)\n",
    "    print(\"Median of simulation averages: {median}\".\\\n",
    "      format(median=median))\n",
    "    statistics.append(median)\n",
    "    \n",
    "    minimum = round(np.min(dist), 2)\n",
    "    print(\"Minimum of simulation averages: {min}\".\\\n",
    "          format(min=minimum))\n",
    "    statistics.append(minimum)\n",
    "          \n",
    "    maximum = round(np.max(dist),2)\n",
    "    print(\"Maximum of simulation averages: {max}\".\\\n",
    "          format(max=maximum))\n",
    "    statistics.append(maximum)\n",
    "    \n",
    "    standarddeviation = round(np.std(dist),2)\n",
    "    print(\"Standard deviation of simulation averages: {std}\".\\\n",
    "          format(std=standarddeviation))\n",
    "    statistics.append(standarddeviation)\n",
    "    \n",
    "    firstquantile = round(np.quantile(dist, 0.25),2)\n",
    "    print(\"0.25 quantile of simulation averages: {firstQuantile}\".\\\n",
    "      format(firstQuantile=firstquantile))\n",
    "    statistics.append(firstquantile)\n",
    "    \n",
    "    thirdquantile = round(np.quantile(dist, 0.75),2) \n",
    "    print(\"0.75 quantile of simulation averages: {thirdQuantile}\".\\\n",
    "      format(thirdQuantile=thirdquantile))\n",
    "    statistics.append(thirdquantile)\n",
    "    \n",
    "    return (statistics)\n",
    "    \n",
    "    "
   ]
  },
  {
   "cell_type": "code",
   "execution_count": 81,
   "metadata": {},
   "outputs": [
    {
     "name": "stdout",
     "output_type": "stream",
     "text": [
      "Help on function point_estimations in module __main__:\n",
      "\n",
      "point_estimations(dist)\n",
      "    This calculates statistics of the given sampling distribution\n",
      "    and print those out. It additionally returns the statistics as a list in this \n",
      "    order: mean, median, minimum, maximum, std, quantiles.\n",
      "\n"
     ]
    }
   ],
   "source": [
    "help(point_estimations)"
   ]
  },
  {
   "cell_type": "code",
   "execution_count": 82,
   "metadata": {},
   "outputs": [
    {
     "name": "stdout",
     "output_type": "stream",
     "text": [
      "Average of simulation averages: 1004.55\n",
      "Median of simulation averages: 1006.54\n",
      "Minimum of simulation averages: 931.29\n",
      "Maximum of simulation averages: 1087.79\n",
      "Standard deviation of simulation averages: 31.92\n",
      "0.25 quantile of simulation averages: 982.15\n",
      "0.75 quantile of simulation averages: 1023.46\n"
     ]
    }
   ],
   "source": [
    "dist1 = point_estimations(geom_distribution_means)"
   ]
  },
  {
   "cell_type": "markdown",
   "metadata": {},
   "source": [
    "It seems the distributions has rather short tails.\n",
    "Checking the calculations with pandas describe."
   ]
  },
  {
   "cell_type": "code",
   "execution_count": 83,
   "metadata": {},
   "outputs": [
    {
     "data": {
      "text/plain": [
       "count   1.00E+02\n",
       "mean    1.00E+03\n",
       "std     3.21E+01\n",
       "min     9.31E+02\n",
       "25%     9.82E+02\n",
       "50%     1.01E+03\n",
       "75%     1.02E+03\n",
       "max     1.09E+03\n",
       "dtype: float64"
      ]
     },
     "execution_count": 83,
     "metadata": {},
     "output_type": "execute_result"
    }
   ],
   "source": [
    "geom_distribution_means_df =pd.Series(geom_distribution_means)\n",
    "geom_distribution_means_df.describe()"
   ]
  },
  {
   "cell_type": "code",
   "execution_count": 84,
   "metadata": {},
   "outputs": [
    {
     "name": "stdout",
     "output_type": "stream",
     "text": [
      "Lower boundary: 941.99\n",
      "Upper boundary: 1067.11\n"
     ]
    }
   ],
   "source": [
    "ci_11, ci_12 = stats.norm.interval(alpha=0.95, loc=dist1[0], scale=dist1[4])\n",
    "print(\"Lower boundary: {ci11}\".format(ci11=round(ci_11, 2)))\n",
    "print(\"Upper boundary: {c12}\".format(c12=round(ci_12, 2)))"
   ]
  },
  {
   "cell_type": "code",
   "execution_count": 85,
   "metadata": {},
   "outputs": [
    {
     "name": "stdout",
     "output_type": "stream",
     "text": [
      "Number of simulations: 100\n"
     ]
    }
   ],
   "source": [
    "print(\"Number of simulations: {n_simu}\".\\\n",
    "          format(n_simu = len(geom_distribution_means)))\n"
   ]
  },
  {
   "cell_type": "code",
   "execution_count": 86,
   "metadata": {},
   "outputs": [
    {
     "name": "stdout",
     "output_type": "stream",
     "text": [
      "Averages of geometric distributions: [970.278, 995.825, 1064.821, 984.545, 988.361, 1014.182, 977.385, 1050.883, 1012.109, 970.728, 1023.041, 1016.592, 980.787, 1011.779, 1015.427, 998.725, 971.679, 972.139, 939.992, 1001.845, 966.784, 1006.233, 1071.765, 1027.505, 979.989, 985.125, 1003.137, 1020.254, 1050.145, 1039.402, 1009.558, 957.808, 989.377, 1002.879, 1031.664, 1010.025, 1013.449, 958.642, 987.024, 969.558, 1024.439, 1021.287, 971.682, 1042.807, 1006.846, 994.03, 939.478, 991.55, 1059.545, 1004.033, 1029.467, 1018.259, 992.909, 975.114, 1011.812, 973.195, 982.598, 970.152, 1005.3, 1021.669, 1044.819, 1043.151, 1008.351, 1023.132, 1044.477, 1040.647, 1012.562, 1036.618, 1039.073, 1067.967, 999.541, 954.21, 1004.776, 1047.168, 1042.036, 970.626, 1022.096, 948.163, 1036.132, 957.79, 998.049, 989.512, 1008.77, 1009.473, 1016.697, 1016.093, 1015.82, 1009.851, 1027.88, 951.076, 965.141, 934.583, 999.314, 1041.358, 1004.724, 1006.029, 1087.791, 994.663, 931.292, 1025.775]:\n"
     ]
    }
   ],
   "source": [
    "print(\"Averages of geometric distributions: {av}:\".\\\n",
    "      format(av=geom_distribution_means))"
   ]
  },
  {
   "cell_type": "code",
   "execution_count": 87,
   "metadata": {},
   "outputs": [
    {
     "name": "stderr",
     "output_type": "stream",
     "text": [
      "C:\\Users\\gamarandor\\Anaconda3\\lib\\site-packages\\seaborn\\_decorators.py:43: FutureWarning: Pass the following variable as a keyword arg: x. From version 0.12, the only valid positional argument will be `data`, and passing other arguments without an explicit keyword will result in an error or misinterpretation.\n",
      "  FutureWarning\n"
     ]
    },
    {
     "data": {
      "image/png": "[encoded data removed]",
      "text/plain": [
       "<Figure size 720x576 with 4 Axes>"
      ]
     },
     "metadata": {
      "needs_background": "light"
     },
     "output_type": "display_data"
    }
   ],
   "source": [
    "figure, axes = plt.subplots(2,2, figsize=(10,8))\n",
    "plt.suptitle(\"Sampling distribution of geometric simulations\")\n",
    "\n",
    "axes[0,0].scatter(x=np.arange(1,101,1), y= geom_distribution_means,\n",
    "                  color=\"darkgreen\", edgecolor=\"r\", linewidth=1)\n",
    "axes[0,1].hist(geom_distribution_means, color=\"skyblue\",\n",
    "               edgecolor=\"brown\", linewidth=3)\n",
    "axes[1,0].boxplot(geom_distribution_means, \n",
    "                  labels=[\"Sampling distribution\"])\n",
    "\n",
    "axes[1,1] = sns.violinplot(geom_distribution_means, color=\"lightgreen\",\n",
    "                           edgecolor=\"magenta\", linewidth=4)\n",
    "\n",
    "plt.show()"
   ]
  },
  {
   "cell_type": "markdown",
   "metadata": {},
   "source": [
    "This looks like a normal distribution. A lot of values are \n",
    "concentrated around the mean. Is the normal distribution\n",
    "going to take even more shape if the number of simulations\n",
    "is increased? Experimenting is better done with a function."
   ]
  },
  {
   "cell_type": "code",
   "execution_count": 88,
   "metadata": {},
   "outputs": [],
   "source": [
    "def geom_simulations(geom_simulation_n,\n",
    "                     geom_size,\n",
    "                     geom_probability):\n",
    "    \n",
    "    \n",
    "        \"\"\" This function creates n geometric distributions\n",
    "        with a given probability and an recurring number of \n",
    "        random variables per distribution (size).\n",
    "        It take the means of the distributions and\n",
    "        then returns the means (1) and then the distributions \n",
    "        (2) as dicts.\"\"\"\n",
    "\n",
    "        geom_distributions = {}\n",
    "        geom_dist_means_dict = {}\n",
    "     \n",
    "\n",
    "        i=1\n",
    "        while i < geom_simulation_n:\n",
    "\n",
    "\n",
    "            geom_dist = stats.geom.rvs(geom_probability, size=geom_size)\n",
    "            geom_distributions[i] = geom_dist\n",
    "\n",
    "            geom_mean = geom_dist.mean()\n",
    "            \n",
    "            geom_dist_means_dict[i] = geom_mean\n",
    "            \n",
    "            \n",
    "\n",
    "            i += 1\n",
    "    \n",
    "           \n",
    "        return (geom_dist_means_dict, \\\n",
    "                geom_distributions)\n"
   ]
  },
  {
   "cell_type": "code",
   "execution_count": 89,
   "metadata": {},
   "outputs": [
    {
     "name": "stdout",
     "output_type": "stream",
     "text": [
      "Help on function geom_simulations in module __main__:\n",
      "\n",
      "geom_simulations(geom_simulation_n, geom_size, geom_probability)\n",
      "    This function creates n geometric distributions\n",
      "    with a given probability and an recurring number of \n",
      "    random variables per distribution (size).\n",
      "    It take the means of the distributions and\n",
      "    then returns the means (1) and then the distributions \n",
      "    (2) as dicts.\n",
      "\n"
     ]
    }
   ],
   "source": [
    "help(geom_simulations)"
   ]
  },
  {
   "cell_type": "markdown",
   "metadata": {},
   "source": [
    "Checking if the simulation works."
   ]
  },
  {
   "cell_type": "code",
   "execution_count": 90,
   "metadata": {},
   "outputs": [
    {
     "name": "stdout",
     "output_type": "stream",
     "text": [
      "{1: 1007.42, 2: 920.84, 3: 1035.36, 4: 1031.2}\n",
      "<class 'dict'>\n",
      "4\n"
     ]
    }
   ],
   "source": [
    "sims_2_means, sims_2 = geom_simulations(5,100,0.001)\n",
    "\n",
    "print(sims_2_means)\n",
    "print(type(sims_2_means))\n",
    "print(len(sims_2_means))\n"
   ]
  },
  {
   "cell_type": "code",
   "execution_count": 91,
   "metadata": {},
   "outputs": [
    {
     "data": {
      "text/html": [
       "<div>\n",
       "<style scoped>\n",
       "    .dataframe tbody tr th:only-of-type {\n",
       "        vertical-align: middle;\n",
       "    }\n",
       "\n",
       "    .dataframe tbody tr th {\n",
       "        vertical-align: top;\n",
       "    }\n",
       "\n",
       "    .dataframe thead th {\n",
       "        text-align: right;\n",
       "    }\n",
       "</style>\n",
       "<table border=\"1\" class=\"dataframe\">\n",
       "  <thead>\n",
       "    <tr style=\"text-align: right;\">\n",
       "      <th></th>\n",
       "      <th>Simulation means</th>\n",
       "    </tr>\n",
       "  </thead>\n",
       "  <tbody>\n",
       "    <tr>\n",
       "      <th>1</th>\n",
       "      <td>1.01E+03</td>\n",
       "    </tr>\n",
       "    <tr>\n",
       "      <th>2</th>\n",
       "      <td>9.21E+02</td>\n",
       "    </tr>\n",
       "    <tr>\n",
       "      <th>3</th>\n",
       "      <td>1.04E+03</td>\n",
       "    </tr>\n",
       "    <tr>\n",
       "      <th>4</th>\n",
       "      <td>1.03E+03</td>\n",
       "    </tr>\n",
       "  </tbody>\n",
       "</table>\n",
       "</div>"
      ],
      "text/plain": [
       "   Simulation means\n",
       "1          1.01E+03\n",
       "2          9.21E+02\n",
       "3          1.04E+03\n",
       "4          1.03E+03"
      ]
     },
     "execution_count": 91,
     "metadata": {},
     "output_type": "execute_result"
    }
   ],
   "source": [
    "sims_2df =  pd.DataFrame(sims_2_means.values(), \\\n",
    "            index=sims_2_means.keys(),\\\n",
    "            columns=[\"Simulation means\"])\n",
    "\n",
    "sims_2df.head()"
   ]
  },
  {
   "cell_type": "markdown",
   "metadata": {},
   "source": [
    "It works!<br>\n",
    "Maybe it is helpful to build a helper function for creating and sorting data frames."
   ]
  },
  {
   "cell_type": "code",
   "execution_count": 92,
   "metadata": {},
   "outputs": [],
   "source": [
    "def dict_df(dictionary):\n",
    "    df =pd.DataFrame(dictionary.values(), \\\n",
    "                     index=dictionary.keys(),\\\n",
    "                     columns=[\"Simulation_means\"])\n",
    "    \n",
    "    df.sort_values(\"Simulation_means\", ascending=True, inplace=True)\n",
    "    return df"
   ]
  },
  {
   "cell_type": "code",
   "execution_count": 93,
   "metadata": {},
   "outputs": [
    {
     "name": "stdout",
     "output_type": "stream",
     "text": [
      "   Simulation_means\n",
      "2          9.21E+02\n",
      "1          1.01E+03\n",
      "4          1.03E+03\n",
      "3          1.04E+03\n",
      "   Simulation_means\n",
      "2          9.21E+02\n",
      "1          1.01E+03\n",
      "4          1.03E+03\n",
      "3          1.04E+03\n"
     ]
    }
   ],
   "source": [
    "sims31_df = dict_df(sims_2_means)\n",
    "print(sims31_df.head())\n",
    "print(sims31_df.tail())"
   ]
  },
  {
   "cell_type": "markdown",
   "metadata": {},
   "source": [
    "#### Simulation 2\n",
    "Let's increase the number of geometric simulations."
   ]
  },
  {
   "cell_type": "code",
   "execution_count": 94,
   "metadata": {},
   "outputs": [
    {
     "name": "stdout",
     "output_type": "stream",
     "text": [
      "<class 'dict'>\n",
      "<class 'dict'>\n"
     ]
    }
   ],
   "source": [
    "sims_31_means, sims_3 = geom_simulations(1000,1000,0.001)\n",
    "\n",
    "print(type(sims_31_means))\n",
    "print(type(sims_3))"
   ]
  },
  {
   "cell_type": "code",
   "execution_count": 95,
   "metadata": {},
   "outputs": [
    {
     "name": "stdout",
     "output_type": "stream",
     "text": [
      "Average of simulation averages: 1002.18\n",
      "Median of simulation averages: 1002.1\n",
      "Minimum of simulation averages: 884.42\n",
      "Maximum of simulation averages: 1099.63\n",
      "Standard deviation of simulation averages: 32.2\n",
      "0.25 quantile of simulation averages: 980.14\n",
      "0.75 quantile of simulation averages: 1023.4\n"
     ]
    }
   ],
   "source": [
    "dist31 = point_estimations(sims_31_means)"
   ]
  },
  {
   "cell_type": "code",
   "execution_count": 96,
   "metadata": {},
   "outputs": [
    {
     "name": "stdout",
     "output_type": "stream",
     "text": [
      "Help on function point_estimations in module __main__:\n",
      "\n",
      "point_estimations(dist)\n",
      "    This calculates statistics of the given sampling distribution\n",
      "    and print those out. It additionally returns the statistics as a list in this \n",
      "    order: mean, median, minimum, maximum, std, quantiles.\n",
      "\n"
     ]
    }
   ],
   "source": [
    "help(point_estimations)"
   ]
  },
  {
   "cell_type": "code",
   "execution_count": 97,
   "metadata": {},
   "outputs": [
    {
     "name": "stdout",
     "output_type": "stream",
     "text": [
      "939.0691596978102 1065.2908403021897\n"
     ]
    }
   ],
   "source": [
    "ci_21, ci_22 = stats.norm.interval(alpha=0.95, loc=dist31[0], scale=dist31[4])\n",
    "print(ci_21, ci_22)"
   ]
  },
  {
   "cell_type": "markdown",
   "metadata": {},
   "source": [
    "We are confident that the true unknown population is contained within this interval 95% percent of the time, if we repeat the sampling over and over again."
   ]
  },
  {
   "cell_type": "code",
   "execution_count": 98,
   "metadata": {},
   "outputs": [],
   "source": [
    "def geomsim_dashboard(geom_distribution_means):\n",
    "\n",
    "        figure, axes = plt.subplots(2,2, figsize=(10,8))\n",
    "        plt.suptitle(\"Sampling distribution of geometric simulations\")\n",
    "        \n",
    "        xvalues = np.arange(0,len(geom_distribution_means), 1)\n",
    "        \n",
    "        \n",
    "        axes[0,0].scatter(x=xvalues, \n",
    "                          y=geom_distribution_means,\n",
    "                          color=\"darkgreen\", edgecolor=\"r\", linewidth=1)\n",
    "        axes[0,0].set_facecolor(\"lightyellow\")\n",
    "        axes[0,0].grid()\n",
    "        \n",
    "        # print(np.arange(0,len(geom_distribution_means),1))\n",
    "        \n",
    "        axes[0,1].hist(geom_distribution_means, color=\"skyblue\",\n",
    "                       edgecolor=\"brown\", linewidth=3)\n",
    "        axes[0,1].set_facecolor(\"lightyellow\")\n",
    "        axes[0,1].grid()        \n",
    "        \n",
    "        axes[1,0].boxplot(geom_distribution_means, \n",
    "                          labels=[\"Sampling distribution\"])\n",
    "        axes[1,0].set_facecolor(\"lightyellow\")\n",
    "        axes[1,0].grid()\n",
    "\n",
    "        axes[1,1] = sns.violinplot(geom_distribution_means, \n",
    "                                   color=\"lightgreen\",\n",
    "                                   edgecolor=\"magenta\", linewidth=4)\n",
    "        axes[1,1].set_facecolor(\"lightyellow\")\n",
    "        axes[1,1].grid()\n",
    "\n",
    "        plt.show()"
   ]
  },
  {
   "cell_type": "code",
   "execution_count": 99,
   "metadata": {},
   "outputs": [
    {
     "name": "stderr",
     "output_type": "stream",
     "text": [
      "C:\\Users\\gamarandor\\Anaconda3\\lib\\site-packages\\seaborn\\_decorators.py:43: FutureWarning: Pass the following variable as a keyword arg: x. From version 0.12, the only valid positional argument will be `data`, and passing other arguments without an explicit keyword will result in an error or misinterpretation.\n",
      "  FutureWarning\n"
     ]
    },
    {
     "data": {
      "image/png": "[encoded data removed]",
      "text/plain": [
       "<Figure size 720x576 with 4 Axes>"
      ]
     },
     "metadata": {
      "needs_background": "light"
     },
     "output_type": "display_data"
    }
   ],
   "source": [
    "sims_31_means_list = list(sims_31_means.values())\n",
    "geomsim_dashboard(sims_31_means_list)"
   ]
  },
  {
   "cell_type": "markdown",
   "metadata": {},
   "source": [
    "#### Simulation 3"
   ]
  },
  {
   "cell_type": "code",
   "execution_count": 100,
   "metadata": {},
   "outputs": [],
   "source": [
    "sims_4_means, sims_4 = geom_simulations(5000,1000,0.001)\n",
    "sims_4_means_list = list(sims_4_means.values())"
   ]
  },
  {
   "cell_type": "code",
   "execution_count": 101,
   "metadata": {},
   "outputs": [
    {
     "name": "stdout",
     "output_type": "stream",
     "text": [
      "Average of simulation averages: 999.67\n",
      "Median of simulation averages: 999.79\n",
      "Minimum of simulation averages: 894.18\n",
      "Maximum of simulation averages: 1106.38\n",
      "Standard deviation of simulation averages: 31.4\n",
      "0.25 quantile of simulation averages: 978.79\n",
      "0.75 quantile of simulation averages: 1020.8\n"
     ]
    }
   ],
   "source": [
    "dist4 = point_estimations(sims_4_means)"
   ]
  },
  {
   "cell_type": "code",
   "execution_count": 102,
   "metadata": {},
   "outputs": [
    {
     "name": "stdout",
     "output_type": "stream",
     "text": [
      "938.1271308854423 1061.2128691145576\n"
     ]
    }
   ],
   "source": [
    "ci_41, ci_42 = stats.norm.interval(alpha=0.95, loc=dist4[0], scale=dist4[4])\n",
    "print(ci_41, ci_42)"
   ]
  },
  {
   "cell_type": "code",
   "execution_count": 103,
   "metadata": {},
   "outputs": [
    {
     "name": "stderr",
     "output_type": "stream",
     "text": [
      "C:\\Users\\gamarandor\\Anaconda3\\lib\\site-packages\\seaborn\\_decorators.py:43: FutureWarning: Pass the following variable as a keyword arg: x. From version 0.12, the only valid positional argument will be `data`, and passing other arguments without an explicit keyword will result in an error or misinterpretation.\n",
      "  FutureWarning\n"
     ]
    },
    {
     "data": {
      "image/png": "[encoded data removed]",
      "text/plain": [
       "<Figure size 720x576 with 4 Axes>"
      ]
     },
     "metadata": {
      "needs_background": "light"
     },
     "output_type": "display_data"
    }
   ],
   "source": [
    "geomsim_dashboard(sims_4_means_list)"
   ]
  },
  {
   "cell_type": "markdown",
   "metadata": {},
   "source": [
    "#### Simulation 5"
   ]
  },
  {
   "cell_type": "code",
   "execution_count": null,
   "metadata": {},
   "outputs": [],
   "source": [
    "sims_5_means, sims_5 = geom_simulations(15000,1000,0.001)\n",
    "sims_5_means_list = list(sims_5_means.values())"
   ]
  },
  {
   "cell_type": "code",
   "execution_count": null,
   "metadata": {},
   "outputs": [],
   "source": [
    "geomsim_dashboard(sims_5_means_list)"
   ]
  },
  {
   "cell_type": "markdown",
   "metadata": {},
   "source": [
    "The last sampling distribution is nearly a perfect normal distribution. \n",
    "Assumably this sampling distribution is a good approximation of the population mean."
   ]
  },
  {
   "cell_type": "code",
   "execution_count": null,
   "metadata": {},
   "outputs": [],
   "source": [
    "sim5_df = dict_df(sims_5_means)\n",
    "print(sim5_df.head())\n",
    "print(sim5_df.tail())"
   ]
  },
  {
   "cell_type": "code",
   "execution_count": null,
   "metadata": {},
   "outputs": [],
   "source": [
    "dist5 = point_estimations(sims_5_means)"
   ]
  },
  {
   "cell_type": "code",
   "execution_count": null,
   "metadata": {},
   "outputs": [],
   "source": [
    "help(point_estimations)"
   ]
  },
  {
   "cell_type": "code",
   "execution_count": null,
   "metadata": {},
   "outputs": [],
   "source": [
    "fig, ax = plt.subplots(figsize=(10,5))\n",
    "plt.suptitle(\"Histogram of simulation 5 with statistics\", fontsize=20, fontweight=\"bold\")\n",
    "\n",
    "ax.grid()\n",
    "ax.set_facecolor(\"darkmagenta\")\n",
    "\n",
    "ax.hist(list(sims_5_means.values()), color=\"lightgray\",\n",
    "             edgecolor=\"black\", linewidth=3)\n",
    "\n",
    "ax.axvline(dist5[5], color=\"gold\", linewidth=3)\n",
    "ax.axvline(dist5[6], color=\"gold\", linewidth=3)\n",
    "ax.axvline(dist5[0], color=\"red\", linewidth=3)\n",
    "\n",
    "ax.axvline(dist5[0]-31.71, color=\"blue\", linewidth=3)\n",
    "ax.axvline(dist5[0]+31.71, color=\"blue\", linewidth=3)\n",
    "ax.axvline(dist5[0]-(2*31.71), color=\"blue\", linewidth=3)\n",
    "ax.axvline(dist5[0]+(2*31.71), color=\"blue\", linewidth=3)\n",
    "\n",
    "\n",
    "ax.annotate(\"Average\", (1003, 3000), color=\"r\", fontsize=18, fontweight=\"bold\")\n",
    "ax.annotate(\"STD\", (1000.17-90, 3500), color=\"b\", fontsize=18, fontweight=\"bold\")\n",
    "ax.annotate(\"Quantiles\", (1030, 3900), color=\"gold\", fontsize=18, fontweight=\"bold\")\n",
    "\n",
    "plt.savefig(\"histStats\")\n",
    "plt.show()"
   ]
  },
  {
   "cell_type": "markdown",
   "metadata": {},
   "source": [
    "For instance, based on the simulation described above, you guess that\n",
    "the process produces a defective part about every 996th part produced.\n",
    "Employing confidence intervals using the estimators derived from these\n",
    "simulations, you can state the following:"
   ]
  },
  {
   "cell_type": "code",
   "execution_count": null,
   "metadata": {},
   "outputs": [],
   "source": [
    "ci5_low, ci5_up = stats.norm.interval(alpha=0.95, loc=dist5[0], scale=dist5[4])\n",
    "print(ci5_low)\n",
    "print(ci5_up)"
   ]
  },
  {
   "cell_type": "code",
   "execution_count": null,
   "metadata": {},
   "outputs": [],
   "source": [
    "fig, ax = plt.subplots(figsize=(10,5))\n",
    "plt.suptitle(\"Histogram of simulation 5 with CI\", fontsize=20, fontweight=\"bold\")\n",
    "\n",
    "ax.grid()\n",
    "ax.set_facecolor(\"darkmagenta\")\n",
    "\n",
    "ax.hist(list(sims_5_means.values()), color=\"lightgray\",\n",
    "             edgecolor=\"black\", linewidth=3)\n",
    "\n",
    "ax.axvline(dist5[5], color=\"gold\", linewidth=3)\n",
    "ax.axvline(dist5[6], color=\"gold\", linewidth=3)\n",
    "ax.axvline(dist5[0], color=\"red\", linewidth=3)\n",
    "\n",
    "ax.axvline(dist5[0]-31.71, color=\"blue\", linewidth=3)\n",
    "ax.axvline(dist5[0]+31.71, color=\"blue\", linewidth=3)\n",
    "ax.axvline(dist5[0]-(2*31.71), color=\"blue\", linewidth=3)\n",
    "ax.axvline(dist5[0]+(2*31.71), color=\"blue\", linewidth=3)\n",
    "\n",
    "ax.axvline(ci5_low, color=\"green\", linewidth=3)\n",
    "ax.axvline(ci5_up, color=\"g\", linewidth=3)\n",
    "\n",
    "ax.annotate(\"Average\", (1003, 3000), color=\"r\", fontsize=18, fontweight=\"bold\")\n",
    "ax.annotate(\"STD\", (1000.17-90, 3500), color=\"b\", fontsize=18, fontweight=\"bold\")\n",
    "ax.annotate(\"Quantiles\", (1030, 3900), color=\"gold\", fontsize=18, fontweight=\"bold\")\n",
    "ax.annotate(\"CI\", (1070, 3200), color=\"green\", fontsize=18, fontweight=\"bold\")\n",
    "plt.show()"
   ]
  },
  {
   "cell_type": "markdown",
   "metadata": {},
   "source": [
    "<p>\n",
    "We are 95% confident that the true unknown population is contained in this interval \n",
    "(or if we repeatedly take a sample we get the true mean 95% of the time)\n",
    "</p> \n",
    "\n",
    "<p>\n",
    "Below the confidence intervals are brought into a nice dataframe for comparison.\n",
    "</p> "
   ]
  },
  {
   "cell_type": "code",
   "execution_count": null,
   "metadata": {},
   "outputs": [],
   "source": [
    "ci_list = [ci_11, ci_12, ci_151, c_152, ci_21, ci_22, ci_41, ci_42, ci5_low, ci5_up]\n",
    "print(ci_list)\n",
    "print(len(ci_list))\n",
    "\n",
    "# list slicing [start:end:step]\n",
    "lower_bounds = ci_list[0:9:2]\n",
    "upper_bounds = ci_list[1:10:2]\n",
    "\n",
    "print(lower_bounds)\n",
    "print(len(lower_bounds))\n",
    "\n",
    "print(upper_bounds)\n",
    "print(len(upper_bounds))"
   ]
  },
  {
   "cell_type": "code",
   "execution_count": null,
   "metadata": {},
   "outputs": [],
   "source": [
    "ci_boundaries_df = pd.DataFrame({\"lower_bound\":lower_bounds,\"upper_bounds\":upper_bounds})\n",
    "ci_boundaries_df.index = [1, \"Sample 15\", 2, 3, 4]\n",
    "ci_boundaries_df.index.name = \"Simulation\"\n",
    "ci_boundaries_df"
   ]
  },
  {
   "cell_type": "markdown",
   "metadata": {},
   "source": [
    "<p>\n",
    "It shows that simulation 3 and 4 have got the smallest confidence intervals. \n",
    "This makes inferences from the samples to the population more insightful.\n",
    "The number of samples taken decreases the range of the intervals.\n",
    "This is aligned with the center limit theorem.\n",
    "After a high number of samples it stops decreasing.\n",
    "</p> \n",
    "\n",
    "### Probabilities as a parameter of control in Monte Carlo simulations\n",
    "\n",
    "\n",
    "<p>\n",
    "When creating random distributions the probability is usually a parameter of interest.\n",
    "Holding number and size of simulations constant and changing the probabilities\n",
    "results in the typical Monte Carlo graphics. The graphics depicts the range of \n",
    "potential outcomes depending on the input probabilities.\n",
    "</p> \n"
   ]
  },
  {
   "cell_type": "code",
   "execution_count": null,
   "metadata": {},
   "outputs": [],
   "source": [
    "help( geom_simulations)"
   ]
  },
  {
   "cell_type": "code",
   "execution_count": null,
   "metadata": {},
   "outputs": [],
   "source": [
    "geom_sim_means_2 = {}\n",
    "geom_sim_dist_2 = {}\n",
    "\n",
    "for i in [0.0001, 0.001, 0.01, 0.1, 1]:\n",
    "    \n",
    "    a,b  = geom_simulations(10,1000,i)\n",
    "    geom_sim_means_2[i] = a\n",
    "    geom_sim_dist_2[i] = b"
   ]
  },
  {
   "cell_type": "code",
   "execution_count": null,
   "metadata": {},
   "outputs": [],
   "source": [
    "print(len(list(geom_sim_dist_2[0.001].values())[0]))\n",
    "print(list(geom_sim_dist_2[0.001].values())[0][:10])\n",
    "print(list(geom_sim_dist_2[0.1].values())[0][:10])"
   ]
  },
  {
   "cell_type": "code",
   "execution_count": null,
   "metadata": {},
   "outputs": [],
   "source": [
    "n_sim_100 = np.arange(1,10,1)"
   ]
  },
  {
   "cell_type": "code",
   "execution_count": null,
   "metadata": {},
   "outputs": [],
   "source": [
    "sim_00001 = list(geom_sim_means_2[0.0001].values())\n",
    "sim_0001 = list(geom_sim_means_2[0.001].values())\n",
    "\n",
    "sim_0001\n",
    "# Every 1/1000 or 1000th piece of equipment is defect"
   ]
  },
  {
   "cell_type": "code",
   "execution_count": null,
   "metadata": {},
   "outputs": [],
   "source": [
    "def dictv_toList(k, d):\n",
    "    return (list(d[k].values()))"
   ]
  },
  {
   "cell_type": "code",
   "execution_count": null,
   "metadata": {},
   "outputs": [],
   "source": [
    "sim_001 = dictv_toList(0.01, d=geom_sim_means_2)\n",
    "sim_01 = dictv_toList(0.1, d=geom_sim_means_2)\n",
    "sim_1 = dictv_toList(1, d=geom_sim_means_2)\n",
    "\n",
    "sim_1\n",
    "# Every piece of equipment is defect."
   ]
  },
  {
   "cell_type": "code",
   "execution_count": null,
   "metadata": {},
   "outputs": [],
   "source": [
    "fig, ax = plt.subplots(1,1, figsize=(10,3))\n",
    "plt.suptitle(\"Controling probabilities in a wide range\", fontsize=15, fontweight=\"bold\")\n",
    "\n",
    "ax.set_facecolor(\"lightcyan\")\n",
    "#  Axes.grid(self, b=None, which='major', axis='both', **kwargs)\n",
    "ax.grid()\n",
    "\n",
    "ax.plot(n_sim_100, sim_00001, label=\"prob = 00001\")\n",
    "ax.plot(n_sim_100, sim_0001, label=\"prob = 0001\")\n",
    "ax.plot(n_sim_100, sim_001, label=\"prob = 001\")\n",
    "ax.plot(n_sim_100, sim_01, label=\"prob = 01\")\n",
    "ax.plot(n_sim_100, sim_1, label=\"prob = 1\")\n",
    "\n",
    "ax.legend(loc =\"upper left\")\n",
    "plt.savefig(\"ControlProbas_1\")\n",
    "plt.show()"
   ]
  },
  {
   "cell_type": "code",
   "execution_count": null,
   "metadata": {},
   "outputs": [],
   "source": [
    "def proba_control(probas, sim_n=10, sim_size = 1000):\n",
    "    \n",
    "    \"\"\"This function iterates over a list of probabilities.\n",
    "    It returns the means and the distribution and also a dict with\n",
    "    named keys:\n",
    "    geom_sim_means: g\n",
    "    a list of input propabilities: p\n",
    "    dicts with p as keys and values as lists: n\n",
    "    the generated random geometric distributions: d\"\"\"\n",
    "    \n",
    "    try:\n",
    "        isinstance(probas, list)\n",
    "    except TypeError:\n",
    "        print(\"Probabilities must be of type list!\")\n",
    "    \n",
    "    for e in probas:\n",
    "            if e == 0:\n",
    "                raise ValueError(\"The probability cannot be zero!\")\n",
    "\n",
    "    \n",
    "    geom_sim_means = {}\n",
    "    geom_sim_dist = {}\n",
    "    geom_sim_names = {}\n",
    "\n",
    "    for i in probas:\n",
    "    \n",
    "        a,b  = geom_simulations(sim_n,sim_size,i)\n",
    "        geom_sim_means[i] = a\n",
    "        geom_sim_dist[i] = b\n",
    "       \n",
    "    for k,v in geom_sim_means.items():\n",
    "        \n",
    "        l =  list(geom_sim_means[k].values())\n",
    "        n = str(k)\n",
    "        geom_sim_names[n] = l\n",
    "\n",
    "        \n",
    "    return (geom_sim_means, probas, geom_sim_names, geom_sim_dist)"
   ]
  },
  {
   "cell_type": "code",
   "execution_count": null,
   "metadata": {},
   "outputs": [],
   "source": [
    "probas_2 = [0.001, 0.002, 0.003, 0.004, 0.005]\n",
    "probas_3 = [0.00011, 0.00012, 0.00013, 0.00014, 0.00015]"
   ]
  },
  {
   "cell_type": "code",
   "execution_count": null,
   "metadata": {},
   "outputs": [],
   "source": [
    "g2, p2, n2, d2 = proba_control(probas_2)\n",
    "g3, p3, n3, d3 = proba_control(probas_3)"
   ]
  },
  {
   "cell_type": "code",
   "execution_count": null,
   "metadata": {},
   "outputs": [],
   "source": [
    "# checking the returned structures\n",
    "print(g2[0.002])\n",
    "print(p2)\n",
    "print(n2['0.001'])"
   ]
  },
  {
   "cell_type": "code",
   "execution_count": null,
   "metadata": {},
   "outputs": [],
   "source": [
    "fig, (ax1, ax2) = plt.subplots(1,2, figsize=(13,5))\n",
    "xValues1 = np.arange(1,10,1)\n",
    "plt.suptitle(\"Controling probabilities in smaller p ranges I\", \n",
    "             fontweight=\"bold\")\n",
    "\n",
    "for i in p2:\n",
    "    # print(i)\n",
    "    ax1.grid()\n",
    "    ax1.set_facecolor('aquamarine')\n",
    "    ax1.plot(xValues1, n2[str(i)], \n",
    "             label=\"proba: \"+str(i))\n",
    "    ax1.legend(loc='center left') \n",
    "    ax1.set_ylabel(\"Simulation means\")\n",
    "    ax1.set_xlabel(\"Simulations\")\n",
    "    \n",
    "for i in p3:\n",
    "    # print(i)\n",
    "    ax2.grid()\n",
    "    ax2.set_facecolor('aquamarine')\n",
    "    ax2.plot(xValues1, n3[str(i)], \n",
    "             label=\"proba: \"+str(i))\n",
    "    \n",
    "    ax2.legend(loc='upper left') \n",
    "    ax2.set_xlabel(\"Simulations\")\n",
    "\n",
    "plt.savefig(\"ControlProbsSmallerRang\")    \n",
    "plt.show()\n"
   ]
  },
  {
   "cell_type": "code",
   "execution_count": null,
   "metadata": {},
   "outputs": [],
   "source": [
    "help(geom_simulations)"
   ]
  },
  {
   "cell_type": "markdown",
   "metadata": {},
   "source": [
    "#### Increasing the number of input p to 100\n",
    "\n",
    "while holding the number and size of the distributions constant."
   ]
  },
  {
   "cell_type": "code",
   "execution_count": null,
   "metadata": {},
   "outputs": [],
   "source": [
    "np.random.seed(42)\n",
    "probas_5 = np.linspace(0.0001, 0.000290, 100)\n",
    "\n",
    "print(len(probas_5 ))\n",
    "print(probas_5[:20])"
   ]
  },
  {
   "cell_type": "code",
   "execution_count": null,
   "metadata": {},
   "outputs": [],
   "source": [
    "np.random.seed(42)\n",
    "probas_6 = np.linspace(0.001, 0.004, 100)\n",
    "\n",
    "print(len(probas_6))\n",
    "print(probas_6[:20])"
   ]
  },
  {
   "cell_type": "code",
   "execution_count": null,
   "metadata": {},
   "outputs": [],
   "source": [
    "help(proba_control)"
   ]
  },
  {
   "cell_type": "code",
   "execution_count": null,
   "metadata": {},
   "outputs": [],
   "source": [
    "g5, p5, n5, d5 = proba_control(probas_5)\n",
    "g6, p6, n6, d6 = proba_control(probas_6)\n",
    "\n",
    "print(\"sim means: \", g5[0.0001])\n",
    "print(\"p: \", p5[:5]) # 5 of 100\n",
    "print(\"dist 5\", d5[0.0001][3][:7]) # a slice of dist 3 of 10 with p 0.0001"
   ]
  },
  {
   "cell_type": "markdown",
   "metadata": {},
   "source": [
    "#### Calculating the mean of the simulation means\n",
    "<p>\n",
    "as an indication of expected outcomea. Practically the values are extracted from a dictionary \n",
    "of dictionaries:\n",
    "</p> \n"
   ]
  },
  {
   "cell_type": "code",
   "execution_count": null,
   "metadata": {},
   "outputs": [],
   "source": [
    "print(\"Sim 0.0001, mean 1:\", g5[0.0001][1])\n",
    "print(\"Sim 0.0001:\", g5[0.0001])\n",
    "print(\"Mean of means of simulation 0.0001:\", np.mean(list(g5[0.0001].values())))"
   ]
  },
  {
   "cell_type": "code",
   "execution_count": null,
   "metadata": {},
   "outputs": [],
   "source": [
    "def meanOfmeans(seq_means, probas):\n",
    "    \n",
    "    \"\"\"This func takes a dict of dicts of sim means:\n",
    "    and calculates the means for every simulation p and\n",
    "    then calculates the overall mean. It returns:\n",
    "    float: overall mean,\n",
    "    dict: mean of means.\"\"\"\n",
    "    \n",
    "    meanOfmeans = {}\n",
    "    \n",
    "    \n",
    "    for p in probas:\n",
    "        mean = np.mean(list(seq_means[p].values()))\n",
    "        meanOfmeans[p] = mean\n",
    "    \n",
    "    overall_mean = np.mean(list(meanOfmeans.values()))\n",
    "    \n",
    "    return overall_mean, meanOfmeans\n"
   ]
  },
  {
   "cell_type": "code",
   "execution_count": null,
   "metadata": {},
   "outputs": [],
   "source": [
    "help(meanOfmeans)"
   ]
  },
  {
   "cell_type": "code",
   "execution_count": null,
   "metadata": {},
   "outputs": [],
   "source": [
    "overall_mean_5, meanOfmeans_5 = meanOfmeans(seq_means=g5, probas=p5)\n",
    "overall_mean_6, meanOfmeans_6 = meanOfmeans(seq_means=g6, probas=p6)"
   ]
  },
  {
   "cell_type": "code",
   "execution_count": null,
   "metadata": {},
   "outputs": [],
   "source": [
    "fig, (ax1, ax2) = plt.subplots(1,2, figsize=(13,5))\n",
    "xValues1 = np.arange(1,10,1)\n",
    "plt.suptitle(\"Controling probabilities in smaller p ranges II\", \n",
    "             fontweight=\"bold\")\n",
    "\n",
    "for i in p5:\n",
    "    # print(i)\n",
    "    ax1.grid()\n",
    "    ax1.set_facecolor('aquamarine')\n",
    "    ax1.plot(xValues1, n5[str(i)], \n",
    "             label=\"proba: \"+str(i))\n",
    "    # ax1.legend(loc='center left') \n",
    "    ax1.set_ylabel(\"Simulation means\")\n",
    "    ax1.set_xlabel(\"Simulations\")\n",
    "    \n",
    "ax1.annotate(\"Mean of Means\", (3, overall_mean_5 + 200), fontsize=15, fontweight=\"bold\")\n",
    "ax1.axhline(y=overall_mean_5, xmin=0, xmax=9, linewidth=5, color=\"black\")\n",
    "ax1.set_title(\"Range of 100 p's from 0.0001 to 0.000290\", fontweight=\"bold\", color=\"gray\")\n",
    "    \n",
    "for i in p6:\n",
    "    # print(i)\n",
    "    ax2.grid()\n",
    "    ax2.set_facecolor('aquamarine')\n",
    "    ax2.plot(xValues1, n6[str(i)], \n",
    "             label=\"proba: \"+str(i))\n",
    "    # ax1.legend(loc='center left') \n",
    "    ax2.set_ylabel(\"Simulation means\")\n",
    "    ax2.set_xlabel(\"Simulations\")\n",
    "\n",
    "    \n",
    "ax2.axhline(y=overall_mean_6, xmin=0, xmax=9, linewidth=5, color=\"black\")\n",
    "ax2.annotate(\"Mean of Means\", (3, overall_mean_6 + 50), fontsize=15, fontweight=\"bold\")\n",
    "ax2.set_title(\"Range of 100 p's from 0.001 to 0.004\", fontweight=\"bold\", color=\"gray\")\n",
    "\n",
    "plt.savefig(\"MC_100_p\")\n",
    "plt.show()"
   ]
  },
  {
   "cell_type": "code",
   "execution_count": null,
   "metadata": {},
   "outputs": [],
   "source": [
    "print(overall_mean_5)"
   ]
  },
  {
   "cell_type": "markdown",
   "metadata": {},
   "source": [
    "#### How do you interpret the graphic?\n",
    "\n",
    "\n",
    "<p>\n",
    "It depends on the desired outcomes and the risk appetite. Simulations \n",
    "are nothing more than a tool under uncertainty. It gives a range \n",
    "of possible outcomes depending on input probabilities. In the range\n",
    "of 0.0001 to 0.000290 most simulations are around 5619. A defect per \n",
    "5619 devices. Is this acceptable or not? Maybe this is not and the quality process\n",
    "should be optimized or it is and maybe less quality is traded off against higher\n",
    "output. If a acceptable number of defects is decided on, the probability is given,\n",
    "and then a closer look is taken with a histogram like above. This\n",
    "helps to understand the probability distribution with confidence intervals,\n",
    "standard deviation, minima and maxima. Again this helps estimating the risk\n",
    "someone is willing to carry. Testing out different probability levels and histograms\n",
    "are a search to find the desired level of risk and outcome. A Monte Carlo simulation is not a stringent mathematical solution. It cannot be as it applies the concept of randomness.\n",
    "</p> \n"
   ]
  },
  {
   "cell_type": "code",
   "execution_count": null,
   "metadata": {},
   "outputs": [],
   "source": []
  }
 ],
 "metadata": {
  "kernelspec": {
   "display_name": "Python 3",
   "language": "python",
   "name": "python3"
  },
  "language_info": {
   "codemirror_mode": {
    "name": "ipython",
    "version": 3
   },
   "file_extension": ".py",
   "mimetype": "text/x-python",
   "name": "python",
   "nbconvert_exporter": "python",
   "pygments_lexer": "ipython3",
   "version": "3.7.9"
  }
 },
 "nbformat": 4,
 "nbformat_minor": 4
}
